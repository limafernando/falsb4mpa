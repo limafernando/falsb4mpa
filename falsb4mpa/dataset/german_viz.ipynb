{
 "cells": [
  {
   "cell_type": "markdown",
   "metadata": {},
   "source": [
    "# Notebook with data visualization to understand skew in the protected attributes and label on german credit data"
   ]
  },
  {
   "cell_type": "markdown",
   "metadata": {},
   "source": [
    "### Imports"
   ]
  },
  {
   "cell_type": "code",
   "execution_count": 1,
   "metadata": {},
   "outputs": [],
   "source": [
    "import matplotlib.pyplot as plt\n",
    "import numpy as np\n",
    "import pandas as pd\n",
    "import seaborn as sns\n",
    "\n",
    "from falsb4mpa.dataset.load_data import load_data"
   ]
  },
  {
   "cell_type": "markdown",
   "metadata": {},
   "source": [
    "### Titanic data (pre-prep)"
   ]
  },
  {
   "cell_type": "code",
   "execution_count": 2,
   "metadata": {},
   "outputs": [],
   "source": [
    "data = pd.read_csv(\"../../data/raw/german/simpler_german.csv\", index_col=0)"
   ]
  },
  {
   "cell_type": "code",
   "execution_count": 3,
   "metadata": {},
   "outputs": [
    {
     "data": {
      "text/html": [
       "<div>\n",
       "<style scoped>\n",
       "    .dataframe tbody tr th:only-of-type {\n",
       "        vertical-align: middle;\n",
       "    }\n",
       "\n",
       "    .dataframe tbody tr th {\n",
       "        vertical-align: top;\n",
       "    }\n",
       "\n",
       "    .dataframe thead th {\n",
       "        text-align: right;\n",
       "    }\n",
       "</style>\n",
       "<table border=\"1\" class=\"dataframe\">\n",
       "  <thead>\n",
       "    <tr style=\"text-align: right;\">\n",
       "      <th></th>\n",
       "      <th>Age</th>\n",
       "      <th>Sex</th>\n",
       "      <th>Job</th>\n",
       "      <th>Housing</th>\n",
       "      <th>Saving accounts</th>\n",
       "      <th>Checking account</th>\n",
       "      <th>Credit amount</th>\n",
       "      <th>Duration</th>\n",
       "      <th>Purpose</th>\n",
       "    </tr>\n",
       "  </thead>\n",
       "  <tbody>\n",
       "    <tr>\n",
       "      <th>0</th>\n",
       "      <td>67</td>\n",
       "      <td>male</td>\n",
       "      <td>2</td>\n",
       "      <td>own</td>\n",
       "      <td>NaN</td>\n",
       "      <td>little</td>\n",
       "      <td>1169</td>\n",
       "      <td>6</td>\n",
       "      <td>radio/TV</td>\n",
       "    </tr>\n",
       "    <tr>\n",
       "      <th>1</th>\n",
       "      <td>22</td>\n",
       "      <td>female</td>\n",
       "      <td>2</td>\n",
       "      <td>own</td>\n",
       "      <td>little</td>\n",
       "      <td>moderate</td>\n",
       "      <td>5951</td>\n",
       "      <td>48</td>\n",
       "      <td>radio/TV</td>\n",
       "    </tr>\n",
       "    <tr>\n",
       "      <th>2</th>\n",
       "      <td>49</td>\n",
       "      <td>male</td>\n",
       "      <td>1</td>\n",
       "      <td>own</td>\n",
       "      <td>little</td>\n",
       "      <td>NaN</td>\n",
       "      <td>2096</td>\n",
       "      <td>12</td>\n",
       "      <td>education</td>\n",
       "    </tr>\n",
       "    <tr>\n",
       "      <th>3</th>\n",
       "      <td>45</td>\n",
       "      <td>male</td>\n",
       "      <td>2</td>\n",
       "      <td>free</td>\n",
       "      <td>little</td>\n",
       "      <td>little</td>\n",
       "      <td>7882</td>\n",
       "      <td>42</td>\n",
       "      <td>furniture/equipment</td>\n",
       "    </tr>\n",
       "    <tr>\n",
       "      <th>4</th>\n",
       "      <td>53</td>\n",
       "      <td>male</td>\n",
       "      <td>2</td>\n",
       "      <td>free</td>\n",
       "      <td>little</td>\n",
       "      <td>little</td>\n",
       "      <td>4870</td>\n",
       "      <td>24</td>\n",
       "      <td>car</td>\n",
       "    </tr>\n",
       "  </tbody>\n",
       "</table>\n",
       "</div>"
      ],
      "text/plain": [
       "   Age     Sex  Job Housing Saving accounts Checking account  Credit amount  \\\n",
       "0   67    male    2     own             NaN           little           1169   \n",
       "1   22  female    2     own          little         moderate           5951   \n",
       "2   49    male    1     own          little              NaN           2096   \n",
       "3   45    male    2    free          little           little           7882   \n",
       "4   53    male    2    free          little           little           4870   \n",
       "\n",
       "   Duration              Purpose  \n",
       "0         6             radio/TV  \n",
       "1        48             radio/TV  \n",
       "2        12            education  \n",
       "3        42  furniture/equipment  \n",
       "4        24                  car  "
      ]
     },
     "execution_count": 3,
     "metadata": {},
     "output_type": "execute_result"
    }
   ],
   "source": [
    "data.head()"
   ]
  },
  {
   "cell_type": "code",
   "execution_count": 4,
   "metadata": {},
   "outputs": [
    {
     "data": {
      "text/plain": [
       "1000"
      ]
     },
     "execution_count": 4,
     "metadata": {},
     "output_type": "execute_result"
    }
   ],
   "source": [
    "len(data.index)"
   ]
  },
  {
   "cell_type": "code",
   "execution_count": 5,
   "metadata": {},
   "outputs": [
    {
     "data": {
      "text/plain": [
       "Index(['Age', 'Sex', 'Job', 'Housing', 'Saving accounts', 'Checking account',\n",
       "       'Credit amount', 'Duration', 'Purpose'],\n",
       "      dtype='object')"
      ]
     },
     "execution_count": 5,
     "metadata": {},
     "output_type": "execute_result"
    }
   ],
   "source": [
    "data.columns"
   ]
  },
  {
   "cell_type": "code",
   "execution_count": 6,
   "metadata": {},
   "outputs": [
    {
     "name": "stdout",
     "output_type": "stream",
     "text": [
      "<class 'pandas.core.frame.DataFrame'>\n",
      "Index: 1000 entries, 0 to 999\n",
      "Data columns (total 9 columns):\n",
      " #   Column            Non-Null Count  Dtype \n",
      "---  ------            --------------  ----- \n",
      " 0   Age               1000 non-null   int64 \n",
      " 1   Sex               1000 non-null   object\n",
      " 2   Job               1000 non-null   int64 \n",
      " 3   Housing           1000 non-null   object\n",
      " 4   Saving accounts   817 non-null    object\n",
      " 5   Checking account  606 non-null    object\n",
      " 6   Credit amount     1000 non-null   int64 \n",
      " 7   Duration          1000 non-null   int64 \n",
      " 8   Purpose           1000 non-null   object\n",
      "dtypes: int64(4), object(5)\n",
      "memory usage: 78.1+ KB\n"
     ]
    }
   ],
   "source": [
    "data.info()"
   ]
  },
  {
   "cell_type": "code",
   "execution_count": 7,
   "metadata": {},
   "outputs": [],
   "source": [
    "original_data = pd.read_csv(\"../../data/raw/german/german.csv\", header=None)"
   ]
  },
  {
   "cell_type": "code",
   "execution_count": 8,
   "metadata": {},
   "outputs": [
    {
     "data": {
      "text/html": [
       "<div>\n",
       "<style scoped>\n",
       "    .dataframe tbody tr th:only-of-type {\n",
       "        vertical-align: middle;\n",
       "    }\n",
       "\n",
       "    .dataframe tbody tr th {\n",
       "        vertical-align: top;\n",
       "    }\n",
       "\n",
       "    .dataframe thead th {\n",
       "        text-align: right;\n",
       "    }\n",
       "</style>\n",
       "<table border=\"1\" class=\"dataframe\">\n",
       "  <thead>\n",
       "    <tr style=\"text-align: right;\">\n",
       "      <th></th>\n",
       "      <th>0</th>\n",
       "      <th>1</th>\n",
       "      <th>2</th>\n",
       "      <th>3</th>\n",
       "      <th>4</th>\n",
       "      <th>5</th>\n",
       "      <th>6</th>\n",
       "      <th>7</th>\n",
       "      <th>8</th>\n",
       "      <th>9</th>\n",
       "      <th>...</th>\n",
       "      <th>11</th>\n",
       "      <th>12</th>\n",
       "      <th>13</th>\n",
       "      <th>14</th>\n",
       "      <th>15</th>\n",
       "      <th>16</th>\n",
       "      <th>17</th>\n",
       "      <th>18</th>\n",
       "      <th>19</th>\n",
       "      <th>20</th>\n",
       "    </tr>\n",
       "  </thead>\n",
       "  <tbody>\n",
       "    <tr>\n",
       "      <th>0</th>\n",
       "      <td>A11</td>\n",
       "      <td>6</td>\n",
       "      <td>A34</td>\n",
       "      <td>A43</td>\n",
       "      <td>1169</td>\n",
       "      <td>A65</td>\n",
       "      <td>A75</td>\n",
       "      <td>4</td>\n",
       "      <td>A93</td>\n",
       "      <td>A101</td>\n",
       "      <td>...</td>\n",
       "      <td>A121</td>\n",
       "      <td>67</td>\n",
       "      <td>A143</td>\n",
       "      <td>A152</td>\n",
       "      <td>2</td>\n",
       "      <td>A173</td>\n",
       "      <td>1</td>\n",
       "      <td>A192</td>\n",
       "      <td>A201</td>\n",
       "      <td>1</td>\n",
       "    </tr>\n",
       "    <tr>\n",
       "      <th>1</th>\n",
       "      <td>A12</td>\n",
       "      <td>48</td>\n",
       "      <td>A32</td>\n",
       "      <td>A43</td>\n",
       "      <td>5951</td>\n",
       "      <td>A61</td>\n",
       "      <td>A73</td>\n",
       "      <td>2</td>\n",
       "      <td>A92</td>\n",
       "      <td>A101</td>\n",
       "      <td>...</td>\n",
       "      <td>A121</td>\n",
       "      <td>22</td>\n",
       "      <td>A143</td>\n",
       "      <td>A152</td>\n",
       "      <td>1</td>\n",
       "      <td>A173</td>\n",
       "      <td>1</td>\n",
       "      <td>A191</td>\n",
       "      <td>A201</td>\n",
       "      <td>2</td>\n",
       "    </tr>\n",
       "    <tr>\n",
       "      <th>2</th>\n",
       "      <td>A14</td>\n",
       "      <td>12</td>\n",
       "      <td>A34</td>\n",
       "      <td>A46</td>\n",
       "      <td>2096</td>\n",
       "      <td>A61</td>\n",
       "      <td>A74</td>\n",
       "      <td>2</td>\n",
       "      <td>A93</td>\n",
       "      <td>A101</td>\n",
       "      <td>...</td>\n",
       "      <td>A121</td>\n",
       "      <td>49</td>\n",
       "      <td>A143</td>\n",
       "      <td>A152</td>\n",
       "      <td>1</td>\n",
       "      <td>A172</td>\n",
       "      <td>2</td>\n",
       "      <td>A191</td>\n",
       "      <td>A201</td>\n",
       "      <td>1</td>\n",
       "    </tr>\n",
       "    <tr>\n",
       "      <th>3</th>\n",
       "      <td>A11</td>\n",
       "      <td>42</td>\n",
       "      <td>A32</td>\n",
       "      <td>A42</td>\n",
       "      <td>7882</td>\n",
       "      <td>A61</td>\n",
       "      <td>A74</td>\n",
       "      <td>2</td>\n",
       "      <td>A93</td>\n",
       "      <td>A103</td>\n",
       "      <td>...</td>\n",
       "      <td>A122</td>\n",
       "      <td>45</td>\n",
       "      <td>A143</td>\n",
       "      <td>A153</td>\n",
       "      <td>1</td>\n",
       "      <td>A173</td>\n",
       "      <td>2</td>\n",
       "      <td>A191</td>\n",
       "      <td>A201</td>\n",
       "      <td>1</td>\n",
       "    </tr>\n",
       "    <tr>\n",
       "      <th>4</th>\n",
       "      <td>A11</td>\n",
       "      <td>24</td>\n",
       "      <td>A33</td>\n",
       "      <td>A40</td>\n",
       "      <td>4870</td>\n",
       "      <td>A61</td>\n",
       "      <td>A73</td>\n",
       "      <td>3</td>\n",
       "      <td>A93</td>\n",
       "      <td>A101</td>\n",
       "      <td>...</td>\n",
       "      <td>A124</td>\n",
       "      <td>53</td>\n",
       "      <td>A143</td>\n",
       "      <td>A153</td>\n",
       "      <td>2</td>\n",
       "      <td>A173</td>\n",
       "      <td>2</td>\n",
       "      <td>A191</td>\n",
       "      <td>A201</td>\n",
       "      <td>2</td>\n",
       "    </tr>\n",
       "  </tbody>\n",
       "</table>\n",
       "<p>5 rows × 21 columns</p>\n",
       "</div>"
      ],
      "text/plain": [
       "    0   1     2     3     4     5     6   7     8      9   ...     11  12  \\\n",
       "0  A11   6   A34   A43  1169   A65   A75   4   A93   A101  ...   A121  67   \n",
       "1  A12  48   A32   A43  5951   A61   A73   2   A92   A101  ...   A121  22   \n",
       "2  A14  12   A34   A46  2096   A61   A74   2   A93   A101  ...   A121  49   \n",
       "3  A11  42   A32   A42  7882   A61   A74   2   A93   A103  ...   A122  45   \n",
       "4  A11  24   A33   A40  4870   A61   A73   3   A93   A101  ...   A124  53   \n",
       "\n",
       "      13     14 15     16 17     18     19 20  \n",
       "0   A143   A152  2   A173  1   A192   A201  1  \n",
       "1   A143   A152  1   A173  1   A191   A201  2  \n",
       "2   A143   A152  1   A172  2   A191   A201  1  \n",
       "3   A143   A153  1   A173  2   A191   A201  1  \n",
       "4   A143   A153  2   A173  2   A191   A201  2  \n",
       "\n",
       "[5 rows x 21 columns]"
      ]
     },
     "execution_count": 8,
     "metadata": {},
     "output_type": "execute_result"
    }
   ],
   "source": [
    "original_data.head()"
   ]
  },
  {
   "cell_type": "code",
   "execution_count": 9,
   "metadata": {},
   "outputs": [
    {
     "name": "stdout",
     "output_type": "stream",
     "text": [
      "<class 'pandas.core.frame.DataFrame'>\n",
      "RangeIndex: 1000 entries, 0 to 999\n",
      "Data columns (total 21 columns):\n",
      " #   Column  Non-Null Count  Dtype \n",
      "---  ------  --------------  ----- \n",
      " 0   0       1000 non-null   object\n",
      " 1   1       1000 non-null   int64 \n",
      " 2   2       1000 non-null   object\n",
      " 3   3       1000 non-null   object\n",
      " 4   4       1000 non-null   int64 \n",
      " 5   5       1000 non-null   object\n",
      " 6   6       1000 non-null   object\n",
      " 7   7       1000 non-null   int64 \n",
      " 8   8       1000 non-null   object\n",
      " 9   9       1000 non-null   object\n",
      " 10  10      1000 non-null   int64 \n",
      " 11  11      1000 non-null   object\n",
      " 12  12      1000 non-null   int64 \n",
      " 13  13      1000 non-null   object\n",
      " 14  14      1000 non-null   object\n",
      " 15  15      1000 non-null   int64 \n",
      " 16  16      1000 non-null   object\n",
      " 17  17      1000 non-null   int64 \n",
      " 18  18      1000 non-null   object\n",
      " 19  19      1000 non-null   object\n",
      " 20  20      1000 non-null   int64 \n",
      "dtypes: int64(8), object(13)\n",
      "memory usage: 164.2+ KB\n"
     ]
    }
   ],
   "source": [
    "original_data.info()"
   ]
  },
  {
   "cell_type": "code",
   "execution_count": null,
   "metadata": {},
   "outputs": [],
   "source": [
    "data['Risk'] = original_data[20]"
   ]
  },
  {
   "cell_type": "code",
   "execution_count": 11,
   "metadata": {},
   "outputs": [
    {
     "name": "stdout",
     "output_type": "stream",
     "text": [
      "<class 'pandas.core.frame.DataFrame'>\n",
      "Index: 1000 entries, 0 to 999\n",
      "Data columns (total 10 columns):\n",
      " #   Column            Non-Null Count  Dtype \n",
      "---  ------            --------------  ----- \n",
      " 0   Age               1000 non-null   int64 \n",
      " 1   Sex               1000 non-null   object\n",
      " 2   Job               1000 non-null   int64 \n",
      " 3   Housing           1000 non-null   object\n",
      " 4   Saving accounts   817 non-null    object\n",
      " 5   Checking account  606 non-null    object\n",
      " 6   Credit amount     1000 non-null   int64 \n",
      " 7   Duration          1000 non-null   int64 \n",
      " 8   Purpose           1000 non-null   object\n",
      " 9   Risk              1000 non-null   int64 \n",
      "dtypes: int64(5), object(5)\n",
      "memory usage: 85.9+ KB\n"
     ]
    }
   ],
   "source": [
    "data.info()"
   ]
  },
  {
   "cell_type": "code",
   "execution_count": 12,
   "metadata": {},
   "outputs": [],
   "source": [
    "data['Risk'] = data['Risk'].map({1: 1, 2: 0}) # 1 = good -> 1, 2 = bad -> 0"
   ]
  },
  {
   "cell_type": "code",
   "execution_count": 13,
   "metadata": {},
   "outputs": [
    {
     "data": {
      "text/html": [
       "<div>\n",
       "<style scoped>\n",
       "    .dataframe tbody tr th:only-of-type {\n",
       "        vertical-align: middle;\n",
       "    }\n",
       "\n",
       "    .dataframe tbody tr th {\n",
       "        vertical-align: top;\n",
       "    }\n",
       "\n",
       "    .dataframe thead th {\n",
       "        text-align: right;\n",
       "    }\n",
       "</style>\n",
       "<table border=\"1\" class=\"dataframe\">\n",
       "  <thead>\n",
       "    <tr style=\"text-align: right;\">\n",
       "      <th></th>\n",
       "      <th>Age</th>\n",
       "      <th>Sex</th>\n",
       "      <th>Job</th>\n",
       "      <th>Housing</th>\n",
       "      <th>Saving accounts</th>\n",
       "      <th>Checking account</th>\n",
       "      <th>Credit amount</th>\n",
       "      <th>Duration</th>\n",
       "      <th>Purpose</th>\n",
       "      <th>Risk</th>\n",
       "    </tr>\n",
       "  </thead>\n",
       "  <tbody>\n",
       "    <tr>\n",
       "      <th>0</th>\n",
       "      <td>67</td>\n",
       "      <td>male</td>\n",
       "      <td>2</td>\n",
       "      <td>own</td>\n",
       "      <td>NaN</td>\n",
       "      <td>little</td>\n",
       "      <td>1169</td>\n",
       "      <td>6</td>\n",
       "      <td>radio/TV</td>\n",
       "      <td>1</td>\n",
       "    </tr>\n",
       "    <tr>\n",
       "      <th>1</th>\n",
       "      <td>22</td>\n",
       "      <td>female</td>\n",
       "      <td>2</td>\n",
       "      <td>own</td>\n",
       "      <td>little</td>\n",
       "      <td>moderate</td>\n",
       "      <td>5951</td>\n",
       "      <td>48</td>\n",
       "      <td>radio/TV</td>\n",
       "      <td>0</td>\n",
       "    </tr>\n",
       "    <tr>\n",
       "      <th>2</th>\n",
       "      <td>49</td>\n",
       "      <td>male</td>\n",
       "      <td>1</td>\n",
       "      <td>own</td>\n",
       "      <td>little</td>\n",
       "      <td>NaN</td>\n",
       "      <td>2096</td>\n",
       "      <td>12</td>\n",
       "      <td>education</td>\n",
       "      <td>1</td>\n",
       "    </tr>\n",
       "    <tr>\n",
       "      <th>3</th>\n",
       "      <td>45</td>\n",
       "      <td>male</td>\n",
       "      <td>2</td>\n",
       "      <td>free</td>\n",
       "      <td>little</td>\n",
       "      <td>little</td>\n",
       "      <td>7882</td>\n",
       "      <td>42</td>\n",
       "      <td>furniture/equipment</td>\n",
       "      <td>1</td>\n",
       "    </tr>\n",
       "    <tr>\n",
       "      <th>4</th>\n",
       "      <td>53</td>\n",
       "      <td>male</td>\n",
       "      <td>2</td>\n",
       "      <td>free</td>\n",
       "      <td>little</td>\n",
       "      <td>little</td>\n",
       "      <td>4870</td>\n",
       "      <td>24</td>\n",
       "      <td>car</td>\n",
       "      <td>0</td>\n",
       "    </tr>\n",
       "  </tbody>\n",
       "</table>\n",
       "</div>"
      ],
      "text/plain": [
       "   Age     Sex  Job Housing Saving accounts Checking account  Credit amount  \\\n",
       "0   67    male    2     own             NaN           little           1169   \n",
       "1   22  female    2     own          little         moderate           5951   \n",
       "2   49    male    1     own          little              NaN           2096   \n",
       "3   45    male    2    free          little           little           7882   \n",
       "4   53    male    2    free          little           little           4870   \n",
       "\n",
       "   Duration              Purpose  Risk  \n",
       "0         6             radio/TV     1  \n",
       "1        48             radio/TV     0  \n",
       "2        12            education     1  \n",
       "3        42  furniture/equipment     1  \n",
       "4        24                  car     0  "
      ]
     },
     "execution_count": 13,
     "metadata": {},
     "output_type": "execute_result"
    }
   ],
   "source": [
    "data.head()"
   ]
  },
  {
   "cell_type": "markdown",
   "metadata": {},
   "source": [
    "### Viz"
   ]
  },
  {
   "cell_type": "code",
   "execution_count": 14,
   "metadata": {},
   "outputs": [
    {
     "name": "stderr",
     "output_type": "stream",
     "text": [
      "/var/folders/nx/ktkztyln3xn8f8j2qrfpjrlh0000gn/T/ipykernel_8205/491848776.py:8: FutureWarning: Series.__getitem__ treating keys as positions is deprecated. In a future version, integer keys will always be treated as labels (consistent with DataFrame behavior). To access a value by position, use `ser.iloc[pos]`\n",
      "  [sex[0], train_counts[0]],\n",
      "/var/folders/nx/ktkztyln3xn8f8j2qrfpjrlh0000gn/T/ipykernel_8205/491848776.py:9: FutureWarning: Series.__getitem__ treating keys as positions is deprecated. In a future version, integer keys will always be treated as labels (consistent with DataFrame behavior). To access a value by position, use `ser.iloc[pos]`\n",
      "  [sex[1], train_counts[1]]\n"
     ]
    },
    {
     "data": {
      "image/png": "[encoded data removed]",
      "text/plain": [
       "<Figure size 640x480 with 1 Axes>"
      ]
     },
     "metadata": {},
     "output_type": "display_data"
    }
   ],
   "source": [
    "cols = ['Sex', 'count']\n",
    "sex = ['male', 'female']\n",
    "res_df = pd.DataFrame(columns=cols, dtype='object')\n",
    "\n",
    "train_counts = data['Sex'].value_counts()\n",
    "train_df = pd.DataFrame(\n",
    "    data=[\n",
    "        [sex[0], train_counts[0]],\n",
    "        [sex[1], train_counts[1]]\n",
    "    ],\n",
    "    columns=cols\n",
    ")\n",
    "\n",
    "res_df = pd.concat([train_df])\n",
    "\n",
    "for i in res_df.index:\n",
    "    count = res_df.loc[i, 'count']\n",
    "    y = res_df.loc[i, 'count']\n",
    "    plt.annotate(count, (i, y), ha=\"center\", va=\"bottom\")\n",
    "\n",
    "sns.barplot(x='Sex',y='count',data=res_df,hue='Sex', dodge=False)\n",
    "# plt.legend(loc=\"upper right\")\n",
    "plt.legend([], frameon=False)\n",
    "plt.show()\n"
   ]
  },
  {
   "cell_type": "code",
   "execution_count": 15,
   "metadata": {},
   "outputs": [
    {
     "data": {
      "text/plain": [
       "Risk\n",
       "1    700\n",
       "0    300\n",
       "Name: count, dtype: int64"
      ]
     },
     "execution_count": 15,
     "metadata": {},
     "output_type": "execute_result"
    }
   ],
   "source": [
    "data['Risk'].value_counts()"
   ]
  },
  {
   "cell_type": "code",
   "execution_count": 16,
   "metadata": {},
   "outputs": [
    {
     "data": {
      "image/png": "[encoded data removed]",
      "text/plain": [
       "<Figure size 640x480 with 1 Axes>"
      ]
     },
     "metadata": {},
     "output_type": "display_data"
    }
   ],
   "source": [
    "cols = ['Risk', 'count']\n",
    "risk = ['bad', 'good']\n",
    "res_df = pd.DataFrame(columns=cols, dtype='object')\n",
    "\n",
    "train_counts = data['Risk'].value_counts()\n",
    "train_df = pd.DataFrame(\n",
    "    data=[\n",
    "        [risk[0], train_counts[0]],\n",
    "        [risk[1], train_counts[1]]\n",
    "    ],\n",
    "    columns=cols\n",
    ")\n",
    "\n",
    "res_df = pd.concat([train_df])\n",
    "\n",
    "for i in res_df.index:\n",
    "    count = res_df.loc[i, 'count']\n",
    "    y = res_df.loc[i, 'count']\n",
    "    plt.annotate(count, (i, y), ha=\"center\", va=\"bottom\")\n",
    "\n",
    "sns.barplot(x='Risk',y='count',data=res_df,hue='Risk', dodge=False)\n",
    "# plt.legend(bbox_to_anchor=(1.25,1.02), loc=\"upper right\")\n",
    "plt.legend([], frameon=False)\n",
    "plt.show()"
   ]
  },
  {
   "cell_type": "code",
   "execution_count": 17,
   "metadata": {},
   "outputs": [
    {
     "data": {
      "image/png": "[encoded data removed]",
      "text/plain": [
       "<Figure size 640x480 with 1 Axes>"
      ]
     },
     "metadata": {},
     "output_type": "display_data"
    }
   ],
   "source": [
    "good = data[data['Risk'] == 1]\n",
    "man_good = len(good[good['Sex'] == 'male'].index)\n",
    "woman_good = len(good[good['Sex'] == 'female'].index)\n",
    "\n",
    "bad = data[data['Risk'] == 0]\n",
    "man_bad = len(bad[bad['Sex'] == 'male'].index)\n",
    "woman_bad = len(bad[bad['Sex'] == 'female'].index)\n",
    "\n",
    "\n",
    "res_df = pd.DataFrame(\n",
    "    {\n",
    "        'bad': [man_bad, woman_bad],\n",
    "        'good': [man_good, woman_good],\n",
    "    },\n",
    "    index=['male', 'female']\n",
    ")\n",
    "\n",
    "res_df.plot(kind='bar', stacked=True)#, color=['red', 'pink'])\n",
    "plt.legend(loc=\"upper right\")\n",
    "plt.xticks(rotation=0)\n",
    "plt.show()"
   ]
  },
  {
   "cell_type": "code",
   "execution_count": 18,
   "metadata": {},
   "outputs": [
    {
     "data": {
      "image/png": "[encoded data removed]",
      "text/plain": [
       "<Figure size 640x480 with 1 Axes>"
      ]
     },
     "metadata": {},
     "output_type": "display_data"
    }
   ],
   "source": [
    "# data['Age'].hist()\n",
    "plt.hist(data['Age'], histtype=\"stepfilled\", edgecolor='k', linewidth=1.2)\n",
    "plt.show()"
   ]
  },
  {
   "cell_type": "code",
   "execution_count": 19,
   "metadata": {},
   "outputs": [
    {
     "data": {
      "image/png": "[encoded data removed]",
      "text/plain": [
       "<Figure size 640x480 with 1 Axes>"
      ]
     },
     "metadata": {},
     "output_type": "display_data"
    }
   ],
   "source": [
    "cols = ['Saving accounts', 'count', 'percent']\n",
    "filled = ['not filled', 'filled']\n",
    "res_df = pd.DataFrame(columns=cols, dtype='object')\n",
    "\n",
    "counts_nan = data['Saving accounts'].isna().sum()\n",
    "count_not_nan = data['Saving accounts'].count().sum()\n",
    "res_df = pd.DataFrame(\n",
    "    data=[\n",
    "        [filled[0], counts_nan, counts_nan/len(data['Saving accounts'].index)],\n",
    "        [filled[1], count_not_nan, count_not_nan/len(data['Saving accounts'].index)]\n",
    "    ],\n",
    "    columns=cols\n",
    ")\n",
    "\n",
    "for i in res_df.index:\n",
    "    percent = np.round(res_df.loc[i, 'percent']*100, 2)\n",
    "    percent = f'{percent}%'\n",
    "    y = res_df.loc[i, 'count']\n",
    "    plt.annotate(percent, (i, y), ha=\"center\", va=\"bottom\")\n",
    "\n",
    "sns.barplot(x='Saving accounts',y='count',data=res_df,hue='Saving accounts', dodge=False)\n",
    "# plt.legend(loc=\"upper right\")\n",
    "plt.legend([], frameon=False)\n",
    "plt.show()"
   ]
  },
  {
   "cell_type": "code",
   "execution_count": 20,
   "metadata": {},
   "outputs": [
    {
     "data": {
      "image/png": "[encoded data removed]",
      "text/plain": [
       "<Figure size 640x480 with 1 Axes>"
      ]
     },
     "metadata": {},
     "output_type": "display_data"
    }
   ],
   "source": [
    "cols = ['Checking account', 'count', 'percent']\n",
    "filled = ['not filled', 'filled']\n",
    "res_df = pd.DataFrame(columns=cols, dtype='object')\n",
    "\n",
    "counts_nan = data['Checking account'].isna().sum()\n",
    "count_not_nan = data['Checking account'].count().sum()\n",
    "res_df = pd.DataFrame(\n",
    "    data=[\n",
    "        [filled[0], counts_nan, counts_nan/len(data['Checking account'].index)],\n",
    "        [filled[1], count_not_nan, count_not_nan/len(data['Checking account'].index)]\n",
    "    ],\n",
    "    columns=cols\n",
    ")\n",
    "\n",
    "for i in res_df.index:\n",
    "    percent = np.round(res_df.loc[i, 'percent']*100, 2)\n",
    "    percent = f'{percent}%'\n",
    "    y = res_df.loc[i, 'count']\n",
    "    plt.annotate(percent, (i, y), ha=\"center\", va=\"bottom\")\n",
    "\n",
    "sns.barplot(x='Checking account',y='count',data=res_df,hue='Checking account', dodge=False)\n",
    "# plt.legend(loc=\"upper right\")\n",
    "plt.legend([], frameon=False)\n",
    "plt.show()"
   ]
  },
  {
   "cell_type": "code",
   "execution_count": 21,
   "metadata": {},
   "outputs": [
    {
     "name": "stdout",
     "output_type": "stream",
     "text": [
      "1000 522 0.522\n"
     ]
    }
   ],
   "source": [
    "size = len(data.index)\n",
    "size_dropna = len(data.dropna().index)\n",
    "print(size, size_dropna, size_dropna/size)"
   ]
  },
  {
   "cell_type": "markdown",
   "metadata": {},
   "source": [
    "### German data (post-prep)"
   ]
  },
  {
   "cell_type": "code",
   "execution_count": 22,
   "metadata": {},
   "outputs": [],
   "source": [
    "data = pd.read_csv(\"../../data/processed/german/german.csv\", index_col=0)"
   ]
  },
  {
   "cell_type": "code",
   "execution_count": 23,
   "metadata": {},
   "outputs": [
    {
     "data": {
      "text/html": [
       "<div>\n",
       "<style scoped>\n",
       "    .dataframe tbody tr th:only-of-type {\n",
       "        vertical-align: middle;\n",
       "    }\n",
       "\n",
       "    .dataframe tbody tr th {\n",
       "        vertical-align: top;\n",
       "    }\n",
       "\n",
       "    .dataframe thead th {\n",
       "        text-align: right;\n",
       "    }\n",
       "</style>\n",
       "<table border=\"1\" class=\"dataframe\">\n",
       "  <thead>\n",
       "    <tr style=\"text-align: right;\">\n",
       "      <th></th>\n",
       "      <th>Credit amount</th>\n",
       "      <th>Duration</th>\n",
       "      <th>Age_25</th>\n",
       "      <th>Age_35</th>\n",
       "      <th>Age_60</th>\n",
       "      <th>Age_75</th>\n",
       "      <th>Job_0</th>\n",
       "      <th>Job_1</th>\n",
       "      <th>Job_2</th>\n",
       "      <th>Job_3</th>\n",
       "      <th>...</th>\n",
       "      <th>Purpose_business</th>\n",
       "      <th>Purpose_car</th>\n",
       "      <th>Purpose_domestic appliances</th>\n",
       "      <th>Purpose_education</th>\n",
       "      <th>Purpose_furniture/equipment</th>\n",
       "      <th>Purpose_radio/TV</th>\n",
       "      <th>Purpose_repairs</th>\n",
       "      <th>Purpose_vacation/others</th>\n",
       "      <th>Sex</th>\n",
       "      <th>Risk</th>\n",
       "    </tr>\n",
       "  </thead>\n",
       "  <tbody>\n",
       "    <tr>\n",
       "      <th>0</th>\n",
       "      <td>0.050567</td>\n",
       "      <td>0.029412</td>\n",
       "      <td>False</td>\n",
       "      <td>False</td>\n",
       "      <td>False</td>\n",
       "      <td>True</td>\n",
       "      <td>False</td>\n",
       "      <td>False</td>\n",
       "      <td>True</td>\n",
       "      <td>False</td>\n",
       "      <td>...</td>\n",
       "      <td>False</td>\n",
       "      <td>False</td>\n",
       "      <td>False</td>\n",
       "      <td>False</td>\n",
       "      <td>False</td>\n",
       "      <td>True</td>\n",
       "      <td>False</td>\n",
       "      <td>False</td>\n",
       "      <td>False</td>\n",
       "      <td>1</td>\n",
       "    </tr>\n",
       "    <tr>\n",
       "      <th>1</th>\n",
       "      <td>0.313690</td>\n",
       "      <td>0.647059</td>\n",
       "      <td>True</td>\n",
       "      <td>False</td>\n",
       "      <td>False</td>\n",
       "      <td>False</td>\n",
       "      <td>False</td>\n",
       "      <td>False</td>\n",
       "      <td>True</td>\n",
       "      <td>False</td>\n",
       "      <td>...</td>\n",
       "      <td>False</td>\n",
       "      <td>False</td>\n",
       "      <td>False</td>\n",
       "      <td>False</td>\n",
       "      <td>False</td>\n",
       "      <td>True</td>\n",
       "      <td>False</td>\n",
       "      <td>False</td>\n",
       "      <td>True</td>\n",
       "      <td>0</td>\n",
       "    </tr>\n",
       "    <tr>\n",
       "      <th>2</th>\n",
       "      <td>0.101574</td>\n",
       "      <td>0.117647</td>\n",
       "      <td>False</td>\n",
       "      <td>False</td>\n",
       "      <td>True</td>\n",
       "      <td>False</td>\n",
       "      <td>False</td>\n",
       "      <td>True</td>\n",
       "      <td>False</td>\n",
       "      <td>False</td>\n",
       "      <td>...</td>\n",
       "      <td>False</td>\n",
       "      <td>False</td>\n",
       "      <td>False</td>\n",
       "      <td>True</td>\n",
       "      <td>False</td>\n",
       "      <td>False</td>\n",
       "      <td>False</td>\n",
       "      <td>False</td>\n",
       "      <td>False</td>\n",
       "      <td>1</td>\n",
       "    </tr>\n",
       "    <tr>\n",
       "      <th>3</th>\n",
       "      <td>0.419941</td>\n",
       "      <td>0.558824</td>\n",
       "      <td>False</td>\n",
       "      <td>False</td>\n",
       "      <td>True</td>\n",
       "      <td>False</td>\n",
       "      <td>False</td>\n",
       "      <td>False</td>\n",
       "      <td>True</td>\n",
       "      <td>False</td>\n",
       "      <td>...</td>\n",
       "      <td>False</td>\n",
       "      <td>False</td>\n",
       "      <td>False</td>\n",
       "      <td>False</td>\n",
       "      <td>True</td>\n",
       "      <td>False</td>\n",
       "      <td>False</td>\n",
       "      <td>False</td>\n",
       "      <td>False</td>\n",
       "      <td>1</td>\n",
       "    </tr>\n",
       "    <tr>\n",
       "      <th>4</th>\n",
       "      <td>0.254209</td>\n",
       "      <td>0.294118</td>\n",
       "      <td>False</td>\n",
       "      <td>False</td>\n",
       "      <td>True</td>\n",
       "      <td>False</td>\n",
       "      <td>False</td>\n",
       "      <td>False</td>\n",
       "      <td>True</td>\n",
       "      <td>False</td>\n",
       "      <td>...</td>\n",
       "      <td>False</td>\n",
       "      <td>True</td>\n",
       "      <td>False</td>\n",
       "      <td>False</td>\n",
       "      <td>False</td>\n",
       "      <td>False</td>\n",
       "      <td>False</td>\n",
       "      <td>False</td>\n",
       "      <td>False</td>\n",
       "      <td>0</td>\n",
       "    </tr>\n",
       "  </tbody>\n",
       "</table>\n",
       "<p>5 rows × 32 columns</p>\n",
       "</div>"
      ],
      "text/plain": [
       "   Credit amount  Duration  Age_25  Age_35  Age_60  Age_75  Job_0  Job_1  \\\n",
       "0       0.050567  0.029412   False   False   False    True  False  False   \n",
       "1       0.313690  0.647059    True   False   False   False  False  False   \n",
       "2       0.101574  0.117647   False   False    True   False  False   True   \n",
       "3       0.419941  0.558824   False   False    True   False  False  False   \n",
       "4       0.254209  0.294118   False   False    True   False  False  False   \n",
       "\n",
       "   Job_2  Job_3  ...  Purpose_business  Purpose_car  \\\n",
       "0   True  False  ...             False        False   \n",
       "1   True  False  ...             False        False   \n",
       "2  False  False  ...             False        False   \n",
       "3   True  False  ...             False        False   \n",
       "4   True  False  ...             False         True   \n",
       "\n",
       "   Purpose_domestic appliances  Purpose_education  \\\n",
       "0                        False              False   \n",
       "1                        False              False   \n",
       "2                        False               True   \n",
       "3                        False              False   \n",
       "4                        False              False   \n",
       "\n",
       "   Purpose_furniture/equipment  Purpose_radio/TV  Purpose_repairs  \\\n",
       "0                        False              True            False   \n",
       "1                        False              True            False   \n",
       "2                        False             False            False   \n",
       "3                         True             False            False   \n",
       "4                        False             False            False   \n",
       "\n",
       "   Purpose_vacation/others    Sex  Risk  \n",
       "0                    False  False     1  \n",
       "1                    False   True     0  \n",
       "2                    False  False     1  \n",
       "3                    False  False     1  \n",
       "4                    False  False     0  \n",
       "\n",
       "[5 rows x 32 columns]"
      ]
     },
     "execution_count": 23,
     "metadata": {},
     "output_type": "execute_result"
    }
   ],
   "source": [
    "data.head()"
   ]
  },
  {
   "cell_type": "code",
   "execution_count": 24,
   "metadata": {},
   "outputs": [
    {
     "data": {
      "text/plain": [
       "1000"
      ]
     },
     "execution_count": 24,
     "metadata": {},
     "output_type": "execute_result"
    }
   ],
   "source": [
    "len(data.index)"
   ]
  },
  {
   "cell_type": "code",
   "execution_count": 25,
   "metadata": {},
   "outputs": [
    {
     "data": {
      "text/plain": [
       "Index(['Credit amount', 'Duration', 'Age_25', 'Age_35', 'Age_60', 'Age_75',\n",
       "       'Job_0', 'Job_1', 'Job_2', 'Job_3', 'Housing_free', 'Housing_own',\n",
       "       'Housing_rent', 'Saving accounts_little', 'Saving accounts_moderate',\n",
       "       'Saving accounts_none', 'Saving accounts_quite rich',\n",
       "       'Saving accounts_rich', 'Checking account_little',\n",
       "       'Checking account_moderate', 'Checking account_none',\n",
       "       'Checking account_rich', 'Purpose_business', 'Purpose_car',\n",
       "       'Purpose_domestic appliances', 'Purpose_education',\n",
       "       'Purpose_furniture/equipment', 'Purpose_radio/TV', 'Purpose_repairs',\n",
       "       'Purpose_vacation/others', 'Sex', 'Risk'],\n",
       "      dtype='object')"
      ]
     },
     "execution_count": 25,
     "metadata": {},
     "output_type": "execute_result"
    }
   ],
   "source": [
    "data.columns"
   ]
  },
  {
   "cell_type": "markdown",
   "metadata": {},
   "source": [
    "### Viz"
   ]
  },
  {
   "cell_type": "code",
   "execution_count": 26,
   "metadata": {},
   "outputs": [
    {
     "data": {
      "text/plain": [
       "Sex\n",
       "False    690\n",
       "True     310\n",
       "Name: count, dtype: int64"
      ]
     },
     "execution_count": 26,
     "metadata": {},
     "output_type": "execute_result"
    }
   ],
   "source": [
    "data['Sex'].value_counts()"
   ]
  },
  {
   "cell_type": "code",
   "execution_count": 27,
   "metadata": {},
   "outputs": [
    {
     "name": "stderr",
     "output_type": "stream",
     "text": [
      "/var/folders/nx/ktkztyln3xn8f8j2qrfpjrlh0000gn/T/ipykernel_8205/491848776.py:8: FutureWarning: Series.__getitem__ treating keys as positions is deprecated. In a future version, integer keys will always be treated as labels (consistent with DataFrame behavior). To access a value by position, use `ser.iloc[pos]`\n",
      "  [sex[0], train_counts[0]],\n",
      "/var/folders/nx/ktkztyln3xn8f8j2qrfpjrlh0000gn/T/ipykernel_8205/491848776.py:9: FutureWarning: Series.__getitem__ treating keys as positions is deprecated. In a future version, integer keys will always be treated as labels (consistent with DataFrame behavior). To access a value by position, use `ser.iloc[pos]`\n",
      "  [sex[1], train_counts[1]]\n"
     ]
    },
    {
     "data": {
      "image/png": "[encoded data removed]",
      "text/plain": [
       "<Figure size 640x480 with 1 Axes>"
      ]
     },
     "metadata": {},
     "output_type": "display_data"
    }
   ],
   "source": [
    "cols = ['Sex', 'count']\n",
    "sex = ['male', 'female']\n",
    "res_df = pd.DataFrame(columns=cols, dtype='object')\n",
    "\n",
    "train_counts = data['Sex'].value_counts()\n",
    "train_df = pd.DataFrame(\n",
    "    data=[\n",
    "        [sex[0], train_counts[0]],\n",
    "        [sex[1], train_counts[1]]\n",
    "    ],\n",
    "    columns=cols\n",
    ")\n",
    "\n",
    "res_df = pd.concat([train_df])\n",
    "\n",
    "for i in res_df.index:\n",
    "    count = res_df.loc[i, 'count']\n",
    "    y = res_df.loc[i, 'count']\n",
    "    plt.annotate(count, (i, y), ha=\"center\", va=\"bottom\")\n",
    "\n",
    "sns.barplot(x='Sex',y='count',data=res_df,hue='Sex', dodge=False)\n",
    "# plt.legend(loc=\"upper right\")\n",
    "plt.legend([], frameon=False)\n",
    "plt.show()\n"
   ]
  },
  {
   "cell_type": "code",
   "execution_count": 28,
   "metadata": {},
   "outputs": [
    {
     "data": {
      "text/plain": [
       "Risk\n",
       "1    700\n",
       "0    300\n",
       "Name: count, dtype: int64"
      ]
     },
     "execution_count": 28,
     "metadata": {},
     "output_type": "execute_result"
    }
   ],
   "source": [
    "data['Risk'].value_counts()"
   ]
  },
  {
   "cell_type": "code",
   "execution_count": 29,
   "metadata": {},
   "outputs": [
    {
     "data": {
      "image/png": "[encoded data removed]",
      "text/plain": [
       "<Figure size 640x480 with 1 Axes>"
      ]
     },
     "metadata": {},
     "output_type": "display_data"
    }
   ],
   "source": [
    "cols = ['Risk', 'count']\n",
    "risk = ['bad', 'good']\n",
    "res_df = pd.DataFrame(columns=cols, dtype='object')\n",
    "\n",
    "train_counts = data['Risk'].value_counts()\n",
    "train_df = pd.DataFrame(\n",
    "    data=[\n",
    "        [risk[0], train_counts[0]],\n",
    "        [risk[1], train_counts[1]]\n",
    "    ],\n",
    "    columns=cols\n",
    ")\n",
    "\n",
    "res_df = pd.concat([train_df])\n",
    "\n",
    "for i in res_df.index:\n",
    "    count = res_df.loc[i, 'count']\n",
    "    y = res_df.loc[i, 'count']\n",
    "    plt.annotate(count, (i, y), ha=\"center\", va=\"bottom\")\n",
    "\n",
    "sns.barplot(x='Risk',y='count',data=res_df,hue='Risk', dodge=False)\n",
    "# plt.legend(bbox_to_anchor=(1.25,1.02), loc=\"upper right\")\n",
    "plt.legend([], frameon=False)\n",
    "plt.show()"
   ]
  },
  {
   "cell_type": "code",
   "execution_count": 30,
   "metadata": {},
   "outputs": [
    {
     "data": {
      "image/png": "[encoded data removed]",
      "text/plain": [
       "<Figure size 640x480 with 1 Axes>"
      ]
     },
     "metadata": {},
     "output_type": "display_data"
    }
   ],
   "source": [
    "good = data[data['Risk'] == 1]\n",
    "man_good = len(good[good['Sex'] == 0].index)\n",
    "woman_good = len(good[good['Sex'] == 1].index)\n",
    "\n",
    "bad = data[data['Risk'] == 0]\n",
    "man_bad = len(bad[bad['Sex'] == 0].index)\n",
    "woman_bad = len(bad[bad['Sex'] == 1].index)\n",
    "\n",
    "\n",
    "res_df = pd.DataFrame(\n",
    "    {\n",
    "        'bad': [man_bad, woman_bad],\n",
    "        'good': [man_good, woman_good],\n",
    "    },\n",
    "    index=['male', 'female']\n",
    ")\n",
    "\n",
    "res_df.plot(kind='bar', stacked=True)#, color=['red', 'pink'])\n",
    "plt.legend(loc=\"upper right\")\n",
    "plt.xticks(rotation=0)\n",
    "plt.show()"
   ]
  },
  {
   "cell_type": "code",
   "execution_count": 31,
   "metadata": {},
   "outputs": [
    {
     "name": "stderr",
     "output_type": "stream",
     "text": [
      "/var/folders/nx/ktkztyln3xn8f8j2qrfpjrlh0000gn/T/ipykernel_8205/2691396434.py:13: FutureWarning: Series.__getitem__ treating keys as positions is deprecated. In a future version, integer keys will always be treated as labels (consistent with DataFrame behavior). To access a value by position, use `ser.iloc[pos]`\n",
      "  [ages[0], train_counts[0]],\n",
      "/var/folders/nx/ktkztyln3xn8f8j2qrfpjrlh0000gn/T/ipykernel_8205/2691396434.py:14: FutureWarning: Series.__getitem__ treating keys as positions is deprecated. In a future version, integer keys will always be treated as labels (consistent with DataFrame behavior). To access a value by position, use `ser.iloc[pos]`\n",
      "  [ages[1], train_counts[1]],\n",
      "/var/folders/nx/ktkztyln3xn8f8j2qrfpjrlh0000gn/T/ipykernel_8205/2691396434.py:15: FutureWarning: Series.__getitem__ treating keys as positions is deprecated. In a future version, integer keys will always be treated as labels (consistent with DataFrame behavior). To access a value by position, use `ser.iloc[pos]`\n",
      "  [ages[2], train_counts[2]],\n",
      "/var/folders/nx/ktkztyln3xn8f8j2qrfpjrlh0000gn/T/ipykernel_8205/2691396434.py:16: FutureWarning: Series.__getitem__ treating keys as positions is deprecated. In a future version, integer keys will always be treated as labels (consistent with DataFrame behavior). To access a value by position, use `ser.iloc[pos]`\n",
      "  [ages[3], train_counts[3]]\n"
     ]
    },
    {
     "data": {
      "image/png": "[encoded data removed]",
      "text/plain": [
       "<Figure size 640x480 with 1 Axes>"
      ]
     },
     "metadata": {},
     "output_type": "display_data"
    }
   ],
   "source": [
    "org_cols = ['Age_25', 'Age_35', 'Age_60', 'Age_75']\n",
    "raw_subset = data[org_cols]\n",
    "subset = pd.get_dummies(raw_subset).idxmax(1)#.str.replace('Age_', '')\n",
    "\n",
    "cols = ['age_bucket', 'count']\n",
    "ages = subset.unique()\n",
    "\n",
    "res_df = pd.DataFrame(columns=cols)\n",
    "\n",
    "train_counts = subset.value_counts()\n",
    "train_df = pd.DataFrame(\n",
    "    data=[\n",
    "        [ages[0], train_counts[0]],\n",
    "        [ages[1], train_counts[1]],\n",
    "        [ages[2], train_counts[2]],\n",
    "        [ages[3], train_counts[3]]\n",
    "    ],\n",
    "    columns=cols\n",
    ")\n",
    "\n",
    "res_df = pd.concat([train_df])\n",
    "\n",
    "res_df['sort'] = res_df['age_bucket'].str.extract('(\\d+)', expand=False).astype(int)\n",
    "res_df.sort_values('sort',inplace=True, ascending=True)\n",
    "res_df = res_df.drop('sort', axis=1)\n",
    "res_df.reset_index(inplace=True)\n",
    "\n",
    "for i in res_df.index:\n",
    "    count = res_df.loc[i, 'count']\n",
    "    y = res_df.loc[i, 'count']\n",
    "    plt.annotate(count, (i, y), ha=\"center\", va=\"bottom\")\n",
    "\n",
    "sns.barplot(x='age_bucket',y='count',data=res_df,hue='age_bucket', dodge=False, order=org_cols, palette='hls')\n",
    "# plt.xticks(rotation='vertical')\n",
    "plt.legend([], frameon=False)#bbox_to_anchor=(1.25,1.02), loc=\"upper right\")\n",
    "plt.show()"
   ]
  }
 ],
 "metadata": {
  "kernelspec": {
   "display_name": ".venv",
   "language": "python",
   "name": "python3"
  },
  "language_info": {
   "codemirror_mode": {
    "name": "ipython",
    "version": 3
   },
   "file_extension": ".py",
   "mimetype": "text/x-python",
   "name": "python",
   "nbconvert_exporter": "python",
   "pygments_lexer": "ipython3",
   "version": "3.11.9"
  },
  "orig_nbformat": 4
 },
 "nbformat": 4,
 "nbformat_minor": 2
}
