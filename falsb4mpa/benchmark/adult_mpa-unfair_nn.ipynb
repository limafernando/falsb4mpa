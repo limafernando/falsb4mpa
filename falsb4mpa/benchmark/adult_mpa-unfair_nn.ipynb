{
 "cells": [
  {
   "cell_type": "markdown",
   "metadata": {},
   "source": [
    "## Import libs"
   ]
  },
  {
   "cell_type": "code",
   "execution_count": 1,
   "metadata": {},
   "outputs": [],
   "source": [
    "import pandas as pd\n",
    "from sklearn.model_selection import train_test_split\n",
    "from tensorflow.data import Dataset\n",
    "import seaborn as sns\n",
    "\n",
    "\n",
    "from falsb4mpa.modeling.unfair.unfair_nn import UnfairNN\n",
    "from falsb4mpa.dataset.load_data import load_data\n",
    "from falsb4mpa.evaluation.evaluation import compute_metrics, compute_tradeoff\n"
   ]
  },
  {
   "cell_type": "markdown",
   "metadata": {},
   "source": [
    "## Preliminaries"
   ]
  },
  {
   "cell_type": "code",
   "execution_count": 2,
   "metadata": {},
   "outputs": [],
   "source": [
    "batch_size = 64\n",
    "epochs = 100\n",
    "learning_rate = 0.001"
   ]
  },
  {
   "cell_type": "code",
   "execution_count": 3,
   "metadata": {},
   "outputs": [],
   "source": [
    "cv_seeds = [13, 29, 42, 55, 73]"
   ]
  },
  {
   "cell_type": "markdown",
   "metadata": {},
   "source": [
    "## Load data"
   ]
  },
  {
   "cell_type": "code",
   "execution_count": 4,
   "metadata": {},
   "outputs": [],
   "source": [
    "data_name = 'adult-mpa'"
   ]
  },
  {
   "cell_type": "code",
   "execution_count": 5,
   "metadata": {},
   "outputs": [],
   "source": [
    "x, y, a = load_data(data_name)\n",
    "raw_data = (x, y, a)"
   ]
  },
  {
   "cell_type": "code",
   "execution_count": 6,
   "metadata": {},
   "outputs": [
    {
     "name": "stdout",
     "output_type": "stream",
     "text": [
      "116 1 10 8\n"
     ]
    }
   ],
   "source": [
    "xdim = x.shape[1]\n",
    "ydim = y.shape[1]\n",
    "adim = a.shape[1]\n",
    "zdim = 8\n",
    "print(xdim, ydim, adim, zdim)"
   ]
  },
  {
   "cell_type": "code",
   "execution_count": 7,
   "metadata": {},
   "outputs": [
    {
     "data": {
      "text/plain": [
       "(45222, 1)"
      ]
     },
     "execution_count": 7,
     "metadata": {},
     "output_type": "execute_result"
    }
   ],
   "source": [
    "y.shape"
   ]
  },
  {
   "cell_type": "markdown",
   "metadata": {},
   "source": [
    "## Result file"
   ]
  },
  {
   "cell_type": "code",
   "execution_count": 8,
   "metadata": {},
   "outputs": [],
   "source": [
    "header = \"model_name\", \"cv_seed\", \"clas_acc\", \"dp\", \"deqodds\", \"deqopp\", \"trade_dp\", \"trade_deqodds\", \"trade_deqopp\"#, \"TN_a0\", \"FP_a0\", \"FN_a0\", \"TP_a0\", \"TN_a1\", \"FP_a1\", \"FN_a1\", \"TP_a1\"\n",
    "results = []"
   ]
  },
  {
   "cell_type": "markdown",
   "metadata": {},
   "source": [
    "## Testing"
   ]
  },
  {
   "cell_type": "code",
   "execution_count": 9,
   "metadata": {},
   "outputs": [
    {
     "name": "stdout",
     "output_type": "stream",
     "text": [
      "> Evaluation\n",
      "> Class Acc = 0.7524876594543457\n",
      "> DP | DEqOdds | DEqOpp\n",
      "> 1.0 | 1.0 | 1.0\n",
      "> Confusion Matrix \n",
      "TN: 10209.0 | FP: 0.0 \n",
      "FN: 3358.0 | TP: 0.0\n"
     ]
    },
    {
     "name": "stderr",
     "output_type": "stream",
     "text": [
      "/Users/lffpl/Projects/falsb4mpa/.venv/lib/python3.11/site-packages/sklearn/neural_network/_multilayer_perceptron.py:690: ConvergenceWarning: Stochastic Optimizer: Maximum iterations (100) reached and the optimization hasn't converged yet.\n",
      "  warnings.warn(\n"
     ]
    },
    {
     "name": "stdout",
     "output_type": "stream",
     "text": [
      "> Evaluation\n",
      "> Class Acc = 0.8287757039070129\n",
      "> DP | DEqOdds | DEqOpp\n",
      "> 0.8440856337547302 | 0.9180912971496582 | 0.903166651725769\n",
      "> Confusion Matrix \n",
      "TN: 9201.0 | FP: 999.0 \n",
      "FN: 1324.0 | TP: 2043.0\n"
     ]
    },
    {
     "name": "stderr",
     "output_type": "stream",
     "text": [
      "/Users/lffpl/Projects/falsb4mpa/.venv/lib/python3.11/site-packages/sklearn/neural_network/_multilayer_perceptron.py:690: ConvergenceWarning: Stochastic Optimizer: Maximum iterations (100) reached and the optimization hasn't converged yet.\n",
      "  warnings.warn(\n"
     ]
    },
    {
     "name": "stdout",
     "output_type": "stream",
     "text": [
      "> Evaluation\n",
      "> Class Acc = 0.827301561832428\n",
      "> DP | DEqOdds | DEqOpp\n",
      "> 0.8221456408500671 | 0.8919041752815247 | 0.8724104762077332\n",
      "> Confusion Matrix \n",
      "TN: 9084.0 | FP: 1109.0 \n",
      "FN: 1234.0 | TP: 2140.0\n"
     ]
    },
    {
     "name": "stderr",
     "output_type": "stream",
     "text": [
      "/Users/lffpl/Projects/falsb4mpa/.venv/lib/python3.11/site-packages/sklearn/neural_network/_multilayer_perceptron.py:690: ConvergenceWarning: Stochastic Optimizer: Maximum iterations (100) reached and the optimization hasn't converged yet.\n",
      "  warnings.warn(\n"
     ]
    },
    {
     "name": "stdout",
     "output_type": "stream",
     "text": [
      "> Evaluation\n",
      "> Class Acc = 0.8240583539009094\n",
      "> DP | DEqOdds | DEqOpp\n",
      "> 0.8486840724945068 | 0.9130896925926208 | 0.892920970916748\n",
      "> Confusion Matrix \n",
      "TN: 9032.0 | FP: 1123.0 \n",
      "FN: 1264.0 | TP: 2148.0\n",
      "> Evaluation\n",
      "> Class Acc = 0.8239109516143799\n",
      "> DP | DEqOdds | DEqOpp\n",
      "> 0.7971727848052979 | 0.8392922878265381 | 0.7740467190742493\n",
      "> Confusion Matrix \n",
      "TN: 9034.0 | FP: 1106.0 \n",
      "FN: 1283.0 | TP: 2144.0\n"
     ]
    },
    {
     "name": "stderr",
     "output_type": "stream",
     "text": [
      "/Users/lffpl/Projects/falsb4mpa/.venv/lib/python3.11/site-packages/sklearn/neural_network/_multilayer_perceptron.py:690: ConvergenceWarning: Stochastic Optimizer: Maximum iterations (100) reached and the optimization hasn't converged yet.\n",
      "  warnings.warn(\n"
     ]
    }
   ],
   "source": [
    "results= []\n",
    "for cv_seed in cv_seeds:\n",
    "        x_train, x_test, y_train, y_test, a_train, a_test = train_test_split(\n",
    "                x, y, a, test_size=0.3, random_state=cv_seed\n",
    "        )\n",
    "        y_train = y_train.ravel()\n",
    "        y_test = y_test.ravel()\n",
    "        \n",
    "        model = UnfairNN(epochs, learning_rate, batch_size, xdim, ydim)\n",
    "        h = model.fit(x_train, y_train)\n",
    "\n",
    "         \n",
    "        Y_hat = model.predict(x_test)\n",
    "\n",
    "        clas_acc, dp, deqodds, deqopp, confusion_matrix  = compute_metrics(Y=y_test, A=a_test, Y_hat=Y_hat.reshape(y_test.shape), adim=adim)\n",
    "        \n",
    "        fair_metrics = (dp, deqodds, deqopp)\n",
    "        \n",
    "        tradeoff = []\n",
    "        \n",
    "        for fair_metric in fair_metrics:\n",
    "                tradeoff.append(compute_tradeoff(clas_acc, fair_metric))\n",
    "        \n",
    "        result = ['UnfairLR-decay', cv_seed, clas_acc, dp, deqodds, deqopp, tradeoff[0], tradeoff[1], tradeoff[2]]\n",
    "\n",
    "        results.append(result)\n",
    "        "
   ]
  },
  {
   "cell_type": "code",
   "execution_count": 10,
   "metadata": {},
   "outputs": [
    {
     "data": {
      "text/plain": [
       "<Axes: >"
      ]
     },
     "execution_count": 10,
     "metadata": {},
     "output_type": "execute_result"
    },
    {
     "data": {
      "image/png": "[encoded data removed]",
      "text/plain": [
       "<Figure size 640x480 with 2 Axes>"
      ]
     },
     "metadata": {},
     "output_type": "display_data"
    }
   ],
   "source": [
    "sns.heatmap(confusion_matrix, annot=True, fmt='g')"
   ]
  },
  {
   "cell_type": "markdown",
   "metadata": {},
   "source": [
    "## Saving into DF then CSV"
   ]
  },
  {
   "cell_type": "code",
   "execution_count": 11,
   "metadata": {},
   "outputs": [
    {
     "data": {
      "text/html": [
       "<div>\n",
       "<style scoped>\n",
       "    .dataframe tbody tr th:only-of-type {\n",
       "        vertical-align: middle;\n",
       "    }\n",
       "\n",
       "    .dataframe tbody tr th {\n",
       "        vertical-align: top;\n",
       "    }\n",
       "\n",
       "    .dataframe thead th {\n",
       "        text-align: right;\n",
       "    }\n",
       "</style>\n",
       "<table border=\"1\" class=\"dataframe\">\n",
       "  <thead>\n",
       "    <tr style=\"text-align: right;\">\n",
       "      <th></th>\n",
       "      <th>model_name</th>\n",
       "      <th>cv_seed</th>\n",
       "      <th>clas_acc</th>\n",
       "      <th>dp</th>\n",
       "      <th>deqodds</th>\n",
       "      <th>deqopp</th>\n",
       "      <th>trade_dp</th>\n",
       "      <th>trade_deqodds</th>\n",
       "      <th>trade_deqopp</th>\n",
       "    </tr>\n",
       "  </thead>\n",
       "  <tbody>\n",
       "    <tr>\n",
       "      <th>0</th>\n",
       "      <td>UnfairLR-decay</td>\n",
       "      <td>13</td>\n",
       "      <td>0.752488</td>\n",
       "      <td>1.000000</td>\n",
       "      <td>1.000000</td>\n",
       "      <td>1.000000</td>\n",
       "      <td>0.858765</td>\n",
       "      <td>0.858765</td>\n",
       "      <td>0.858765</td>\n",
       "    </tr>\n",
       "    <tr>\n",
       "      <th>1</th>\n",
       "      <td>UnfairLR-decay</td>\n",
       "      <td>29</td>\n",
       "      <td>0.828776</td>\n",
       "      <td>0.844086</td>\n",
       "      <td>0.918091</td>\n",
       "      <td>0.903167</td>\n",
       "      <td>0.836361</td>\n",
       "      <td>0.871150</td>\n",
       "      <td>0.864374</td>\n",
       "    </tr>\n",
       "    <tr>\n",
       "      <th>2</th>\n",
       "      <td>UnfairLR-decay</td>\n",
       "      <td>42</td>\n",
       "      <td>0.827302</td>\n",
       "      <td>0.822146</td>\n",
       "      <td>0.891904</td>\n",
       "      <td>0.872410</td>\n",
       "      <td>0.824716</td>\n",
       "      <td>0.858389</td>\n",
       "      <td>0.849257</td>\n",
       "    </tr>\n",
       "    <tr>\n",
       "      <th>3</th>\n",
       "      <td>UnfairLR-decay</td>\n",
       "      <td>55</td>\n",
       "      <td>0.824058</td>\n",
       "      <td>0.848684</td>\n",
       "      <td>0.913090</td>\n",
       "      <td>0.892921</td>\n",
       "      <td>0.836190</td>\n",
       "      <td>0.866293</td>\n",
       "      <td>0.857109</td>\n",
       "    </tr>\n",
       "    <tr>\n",
       "      <th>4</th>\n",
       "      <td>UnfairLR-decay</td>\n",
       "      <td>73</td>\n",
       "      <td>0.823911</td>\n",
       "      <td>0.797173</td>\n",
       "      <td>0.839292</td>\n",
       "      <td>0.774047</td>\n",
       "      <td>0.810321</td>\n",
       "      <td>0.831530</td>\n",
       "      <td>0.798201</td>\n",
       "    </tr>\n",
       "  </tbody>\n",
       "</table>\n",
       "</div>"
      ],
      "text/plain": [
       "       model_name  cv_seed  clas_acc        dp   deqodds    deqopp  trade_dp  \\\n",
       "0  UnfairLR-decay       13  0.752488  1.000000  1.000000  1.000000  0.858765   \n",
       "1  UnfairLR-decay       29  0.828776  0.844086  0.918091  0.903167  0.836361   \n",
       "2  UnfairLR-decay       42  0.827302  0.822146  0.891904  0.872410  0.824716   \n",
       "3  UnfairLR-decay       55  0.824058  0.848684  0.913090  0.892921  0.836190   \n",
       "4  UnfairLR-decay       73  0.823911  0.797173  0.839292  0.774047  0.810321   \n",
       "\n",
       "   trade_deqodds  trade_deqopp  \n",
       "0       0.858765      0.858765  \n",
       "1       0.871150      0.864374  \n",
       "2       0.858389      0.849257  \n",
       "3       0.866293      0.857109  \n",
       "4       0.831530      0.798201  "
      ]
     },
     "execution_count": 11,
     "metadata": {},
     "output_type": "execute_result"
    }
   ],
   "source": [
    "result_df = pd.DataFrame(results, columns=header)\n",
    "result_df"
   ]
  },
  {
   "cell_type": "code",
   "execution_count": 12,
   "metadata": {},
   "outputs": [],
   "source": [
    "# result_df.to_csv(f'{data_name}-result/unfair_lr-{epochs}.csv')"
   ]
  },
  {
   "cell_type": "markdown",
   "metadata": {},
   "source": [
    "# Load balanced data"
   ]
  },
  {
   "cell_type": "code",
   "execution_count": 13,
   "metadata": {},
   "outputs": [],
   "source": [
    "data_name = 'adult-mpa-balanced'"
   ]
  },
  {
   "cell_type": "code",
   "execution_count": 14,
   "metadata": {},
   "outputs": [],
   "source": [
    "x, y, a = load_data(data_name)\n",
    "raw_data = (x, y, a)"
   ]
  },
  {
   "cell_type": "markdown",
   "metadata": {},
   "source": [
    "## Testing"
   ]
  },
  {
   "cell_type": "code",
   "execution_count": 15,
   "metadata": {},
   "outputs": [
    {
     "name": "stderr",
     "output_type": "stream",
     "text": [
      "/Users/lffpl/Projects/falsb4mpa/.venv/lib/python3.11/site-packages/sklearn/neural_network/_multilayer_perceptron.py:690: ConvergenceWarning: Stochastic Optimizer: Maximum iterations (100) reached and the optimization hasn't converged yet.\n",
      "  warnings.warn(\n"
     ]
    },
    {
     "name": "stdout",
     "output_type": "stream",
     "text": [
      "> Evaluation\n",
      "> Class Acc = 0.8074349164962769\n",
      "> DP | DEqOdds | DEqOpp\n",
      "> 0.6595508456230164 | 0.8274034261703491 | 0.8402000665664673\n",
      "> Confusion Matrix \n",
      "TN: 2623.0 | FP: 722.0 \n",
      "FN: 573.0 | TP: 2807.0\n"
     ]
    },
    {
     "name": "stderr",
     "output_type": "stream",
     "text": [
      "/Users/lffpl/Projects/falsb4mpa/.venv/lib/python3.11/site-packages/sklearn/neural_network/_multilayer_perceptron.py:690: ConvergenceWarning: Stochastic Optimizer: Maximum iterations (100) reached and the optimization hasn't converged yet.\n",
      "  warnings.warn(\n"
     ]
    },
    {
     "name": "stdout",
     "output_type": "stream",
     "text": [
      "> Evaluation\n",
      "> Class Acc = 0.7991077899932861\n",
      "> DP | DEqOdds | DEqOpp\n",
      "> 0.7007068991661072 | 0.8310763835906982 | 0.7914424538612366\n",
      "> Confusion Matrix \n",
      "TN: 2565.0 | FP: 783.0 \n",
      "FN: 568.0 | TP: 2809.0\n"
     ]
    },
    {
     "name": "stderr",
     "output_type": "stream",
     "text": [
      "/Users/lffpl/Projects/falsb4mpa/.venv/lib/python3.11/site-packages/sklearn/neural_network/_multilayer_perceptron.py:690: ConvergenceWarning: Stochastic Optimizer: Maximum iterations (100) reached and the optimization hasn't converged yet.\n",
      "  warnings.warn(\n"
     ]
    },
    {
     "name": "stdout",
     "output_type": "stream",
     "text": [
      "> Evaluation\n",
      "> Class Acc = 0.7921189665794373\n",
      "> DP | DEqOdds | DEqOpp\n",
      "> 0.7049165964126587 | 0.8504981994628906 | 0.8757523894309998\n",
      "> Confusion Matrix \n",
      "TN: 2544.0 | FP: 792.0 \n",
      "FN: 606.0 | TP: 2783.0\n"
     ]
    },
    {
     "name": "stderr",
     "output_type": "stream",
     "text": [
      "/Users/lffpl/Projects/falsb4mpa/.venv/lib/python3.11/site-packages/sklearn/neural_network/_multilayer_perceptron.py:690: ConvergenceWarning: Stochastic Optimizer: Maximum iterations (100) reached and the optimization hasn't converged yet.\n",
      "  warnings.warn(\n"
     ]
    },
    {
     "name": "stdout",
     "output_type": "stream",
     "text": [
      "> Evaluation\n",
      "> Class Acc = 0.8035687804222107\n",
      "> DP | DEqOdds | DEqOpp\n",
      "> 0.6902655959129333 | 0.8382522463798523 | 0.8473601341247559\n",
      "> Confusion Matrix \n",
      "TN: 2579.0 | FP: 764.0 \n",
      "FN: 557.0 | TP: 2825.0\n",
      "> Evaluation\n",
      "> Class Acc = 0.8022304773330688\n",
      "> DP | DEqOdds | DEqOpp\n",
      "> 0.675230860710144 | 0.8295549154281616 | 0.8839120268821716\n",
      "> Confusion Matrix \n",
      "TN: 2548.0 | FP: 851.0 \n",
      "FN: 479.0 | TP: 2847.0\n"
     ]
    }
   ],
   "source": [
    "results= []\n",
    "for cv_seed in cv_seeds:\n",
    "        x_train, x_test, y_train, y_test, a_train, a_test = train_test_split(\n",
    "                x, y, a, test_size=0.3, random_state=cv_seed\n",
    "        )\n",
    "        y_train = y_train.ravel()\n",
    "        y_test = y_test.ravel()\n",
    "        \n",
    "        model = UnfairNN(epochs, learning_rate, batch_size, xdim, ydim)\n",
    "        h = model.fit(x_train, y_train)\n",
    "         \n",
    "        Y_hat = model.predict(x_test)\n",
    "\n",
    "        clas_acc, dp, deqodds, deqopp, confusion_matrix  = compute_metrics(Y=y_test, A=a_test, Y_hat=Y_hat.reshape(y_test.shape), adim=adim)\n",
    "        \n",
    "        fair_metrics = (dp, deqodds, deqopp)\n",
    "        \n",
    "        tradeoff = []\n",
    "        \n",
    "        for fair_metric in fair_metrics:\n",
    "                tradeoff.append(compute_tradeoff(clas_acc, fair_metric))\n",
    "        \n",
    "        result = ['UnfairLR-decay', cv_seed, clas_acc, dp, deqodds, deqopp, tradeoff[0], tradeoff[1], tradeoff[2]]\n",
    "\n",
    "        results.append(result)\n",
    "        "
   ]
  },
  {
   "cell_type": "code",
   "execution_count": 16,
   "metadata": {},
   "outputs": [
    {
     "data": {
      "text/plain": [
       "<Axes: >"
      ]
     },
     "execution_count": 16,
     "metadata": {},
     "output_type": "execute_result"
    },
    {
     "data": {
      "image/png": "[encoded data removed]",
      "text/plain": [
       "<Figure size 640x480 with 2 Axes>"
      ]
     },
     "metadata": {},
     "output_type": "display_data"
    }
   ],
   "source": [
    "sns.heatmap(confusion_matrix, annot=True, fmt='g')"
   ]
  },
  {
   "cell_type": "markdown",
   "metadata": {},
   "source": [
    "## Saving into DF then CSV"
   ]
  },
  {
   "cell_type": "code",
   "execution_count": 17,
   "metadata": {},
   "outputs": [
    {
     "data": {
      "text/html": [
       "<div>\n",
       "<style scoped>\n",
       "    .dataframe tbody tr th:only-of-type {\n",
       "        vertical-align: middle;\n",
       "    }\n",
       "\n",
       "    .dataframe tbody tr th {\n",
       "        vertical-align: top;\n",
       "    }\n",
       "\n",
       "    .dataframe thead th {\n",
       "        text-align: right;\n",
       "    }\n",
       "</style>\n",
       "<table border=\"1\" class=\"dataframe\">\n",
       "  <thead>\n",
       "    <tr style=\"text-align: right;\">\n",
       "      <th></th>\n",
       "      <th>model_name</th>\n",
       "      <th>cv_seed</th>\n",
       "      <th>clas_acc</th>\n",
       "      <th>dp</th>\n",
       "      <th>deqodds</th>\n",
       "      <th>deqopp</th>\n",
       "      <th>trade_dp</th>\n",
       "      <th>trade_deqodds</th>\n",
       "      <th>trade_deqopp</th>\n",
       "    </tr>\n",
       "  </thead>\n",
       "  <tbody>\n",
       "    <tr>\n",
       "      <th>0</th>\n",
       "      <td>UnfairLR-decay</td>\n",
       "      <td>13</td>\n",
       "      <td>0.807435</td>\n",
       "      <td>0.659551</td>\n",
       "      <td>0.827403</td>\n",
       "      <td>0.840200</td>\n",
       "      <td>0.726039</td>\n",
       "      <td>0.817297</td>\n",
       "      <td>0.823492</td>\n",
       "    </tr>\n",
       "    <tr>\n",
       "      <th>1</th>\n",
       "      <td>UnfairLR-decay</td>\n",
       "      <td>29</td>\n",
       "      <td>0.799108</td>\n",
       "      <td>0.700707</td>\n",
       "      <td>0.831076</td>\n",
       "      <td>0.791442</td>\n",
       "      <td>0.746679</td>\n",
       "      <td>0.814779</td>\n",
       "      <td>0.795257</td>\n",
       "    </tr>\n",
       "    <tr>\n",
       "      <th>2</th>\n",
       "      <td>UnfairLR-decay</td>\n",
       "      <td>42</td>\n",
       "      <td>0.792119</td>\n",
       "      <td>0.704917</td>\n",
       "      <td>0.850498</td>\n",
       "      <td>0.875752</td>\n",
       "      <td>0.745978</td>\n",
       "      <td>0.820271</td>\n",
       "      <td>0.831839</td>\n",
       "    </tr>\n",
       "    <tr>\n",
       "      <th>3</th>\n",
       "      <td>UnfairLR-decay</td>\n",
       "      <td>55</td>\n",
       "      <td>0.803569</td>\n",
       "      <td>0.690266</td>\n",
       "      <td>0.838252</td>\n",
       "      <td>0.847360</td>\n",
       "      <td>0.742620</td>\n",
       "      <td>0.820544</td>\n",
       "      <td>0.824884</td>\n",
       "    </tr>\n",
       "    <tr>\n",
       "      <th>4</th>\n",
       "      <td>UnfairLR-decay</td>\n",
       "      <td>73</td>\n",
       "      <td>0.802230</td>\n",
       "      <td>0.675231</td>\n",
       "      <td>0.829555</td>\n",
       "      <td>0.883912</td>\n",
       "      <td>0.733272</td>\n",
       "      <td>0.815664</td>\n",
       "      <td>0.841093</td>\n",
       "    </tr>\n",
       "  </tbody>\n",
       "</table>\n",
       "</div>"
      ],
      "text/plain": [
       "       model_name  cv_seed  clas_acc        dp   deqodds    deqopp  trade_dp  \\\n",
       "0  UnfairLR-decay       13  0.807435  0.659551  0.827403  0.840200  0.726039   \n",
       "1  UnfairLR-decay       29  0.799108  0.700707  0.831076  0.791442  0.746679   \n",
       "2  UnfairLR-decay       42  0.792119  0.704917  0.850498  0.875752  0.745978   \n",
       "3  UnfairLR-decay       55  0.803569  0.690266  0.838252  0.847360  0.742620   \n",
       "4  UnfairLR-decay       73  0.802230  0.675231  0.829555  0.883912  0.733272   \n",
       "\n",
       "   trade_deqodds  trade_deqopp  \n",
       "0       0.817297      0.823492  \n",
       "1       0.814779      0.795257  \n",
       "2       0.820271      0.831839  \n",
       "3       0.820544      0.824884  \n",
       "4       0.815664      0.841093  "
      ]
     },
     "execution_count": 17,
     "metadata": {},
     "output_type": "execute_result"
    }
   ],
   "source": [
    "result_df = pd.DataFrame(results, columns=header)\n",
    "result_df"
   ]
  },
  {
   "cell_type": "code",
   "execution_count": 18,
   "metadata": {},
   "outputs": [],
   "source": [
    "# result_df.to_csv(f'{data_name}-result/unfair_lr-{epochs}.csv')"
   ]
  }
 ],
 "metadata": {
  "kernelspec": {
   "display_name": ".venv",
   "language": "python",
   "name": "python3"
  },
  "language_info": {
   "codemirror_mode": {
    "name": "ipython",
    "version": 3
   },
   "file_extension": ".py",
   "mimetype": "text/x-python",
   "name": "python",
   "nbconvert_exporter": "python",
   "pygments_lexer": "ipython3",
   "version": "3.11.9"
  },
  "metadata": {
   "interpreter": {
    "hash": "34ca74ed6235dfc7dda926bb3adb31e801e3d02679121d5b444ee035e270bd57"
   }
  }
 },
 "nbformat": 4,
 "nbformat_minor": 4
}
