{
 "cells": [
  {
   "cell_type": "markdown",
   "metadata": {},
   "source": [
    "# Notebook with data visualization to understand skew in the protected attributes and label on titanic data"
   ]
  },
  {
   "cell_type": "markdown",
   "metadata": {},
   "source": [
    "### Imports"
   ]
  },
  {
   "cell_type": "code",
   "execution_count": 1,
   "metadata": {},
   "outputs": [],
   "source": [
    "import matplotlib.pyplot as plt\n",
    "import numpy as np\n",
    "import pandas as pd\n",
    "import seaborn as sns\n",
    "\n",
    "from pathlib import Path\n",
    "\n",
    "from falsb4mpa.dataset.load_data import load_data"
   ]
  },
  {
   "cell_type": "markdown",
   "metadata": {},
   "source": [
    "### Titanic data (pre-prep)"
   ]
  },
  {
   "cell_type": "code",
   "execution_count": 3,
   "metadata": {},
   "outputs": [],
   "source": [
    "train_data = pd.read_csv(\"../../data/raw/titanic/titanic_train.csv\", index_col='PassengerId')\n",
    "test_data = pd.read_csv(\"../../data/raw/titanic/titanic_train.csv\", index_col='PassengerId')\n",
    "\n",
    "data = pd.concat([train_data, test_data])"
   ]
  },
  {
   "cell_type": "code",
   "execution_count": 4,
   "metadata": {},
   "outputs": [
    {
     "data": {
      "text/html": [
       "<div>\n",
       "<style scoped>\n",
       "    .dataframe tbody tr th:only-of-type {\n",
       "        vertical-align: middle;\n",
       "    }\n",
       "\n",
       "    .dataframe tbody tr th {\n",
       "        vertical-align: top;\n",
       "    }\n",
       "\n",
       "    .dataframe thead th {\n",
       "        text-align: right;\n",
       "    }\n",
       "</style>\n",
       "<table border=\"1\" class=\"dataframe\">\n",
       "  <thead>\n",
       "    <tr style=\"text-align: right;\">\n",
       "      <th></th>\n",
       "      <th>Survived</th>\n",
       "      <th>Pclass</th>\n",
       "      <th>Name</th>\n",
       "      <th>Sex</th>\n",
       "      <th>Age</th>\n",
       "      <th>SibSp</th>\n",
       "      <th>Parch</th>\n",
       "      <th>Ticket</th>\n",
       "      <th>Fare</th>\n",
       "      <th>Cabin</th>\n",
       "      <th>Embarked</th>\n",
       "    </tr>\n",
       "    <tr>\n",
       "      <th>PassengerId</th>\n",
       "      <th></th>\n",
       "      <th></th>\n",
       "      <th></th>\n",
       "      <th></th>\n",
       "      <th></th>\n",
       "      <th></th>\n",
       "      <th></th>\n",
       "      <th></th>\n",
       "      <th></th>\n",
       "      <th></th>\n",
       "      <th></th>\n",
       "    </tr>\n",
       "  </thead>\n",
       "  <tbody>\n",
       "    <tr>\n",
       "      <th>1</th>\n",
       "      <td>0</td>\n",
       "      <td>3</td>\n",
       "      <td>Braund, Mr. Owen Harris</td>\n",
       "      <td>male</td>\n",
       "      <td>22.0</td>\n",
       "      <td>1</td>\n",
       "      <td>0</td>\n",
       "      <td>A/5 21171</td>\n",
       "      <td>7.2500</td>\n",
       "      <td>NaN</td>\n",
       "      <td>S</td>\n",
       "    </tr>\n",
       "    <tr>\n",
       "      <th>2</th>\n",
       "      <td>1</td>\n",
       "      <td>1</td>\n",
       "      <td>Cumings, Mrs. John Bradley (Florence Briggs Th...</td>\n",
       "      <td>female</td>\n",
       "      <td>38.0</td>\n",
       "      <td>1</td>\n",
       "      <td>0</td>\n",
       "      <td>PC 17599</td>\n",
       "      <td>71.2833</td>\n",
       "      <td>C85</td>\n",
       "      <td>C</td>\n",
       "    </tr>\n",
       "    <tr>\n",
       "      <th>3</th>\n",
       "      <td>1</td>\n",
       "      <td>3</td>\n",
       "      <td>Heikkinen, Miss. Laina</td>\n",
       "      <td>female</td>\n",
       "      <td>26.0</td>\n",
       "      <td>0</td>\n",
       "      <td>0</td>\n",
       "      <td>STON/O2. 3101282</td>\n",
       "      <td>7.9250</td>\n",
       "      <td>NaN</td>\n",
       "      <td>S</td>\n",
       "    </tr>\n",
       "    <tr>\n",
       "      <th>4</th>\n",
       "      <td>1</td>\n",
       "      <td>1</td>\n",
       "      <td>Futrelle, Mrs. Jacques Heath (Lily May Peel)</td>\n",
       "      <td>female</td>\n",
       "      <td>35.0</td>\n",
       "      <td>1</td>\n",
       "      <td>0</td>\n",
       "      <td>113803</td>\n",
       "      <td>53.1000</td>\n",
       "      <td>C123</td>\n",
       "      <td>S</td>\n",
       "    </tr>\n",
       "    <tr>\n",
       "      <th>5</th>\n",
       "      <td>0</td>\n",
       "      <td>3</td>\n",
       "      <td>Allen, Mr. William Henry</td>\n",
       "      <td>male</td>\n",
       "      <td>35.0</td>\n",
       "      <td>0</td>\n",
       "      <td>0</td>\n",
       "      <td>373450</td>\n",
       "      <td>8.0500</td>\n",
       "      <td>NaN</td>\n",
       "      <td>S</td>\n",
       "    </tr>\n",
       "  </tbody>\n",
       "</table>\n",
       "</div>"
      ],
      "text/plain": [
       "             Survived  Pclass  \\\n",
       "PassengerId                     \n",
       "1                   0       3   \n",
       "2                   1       1   \n",
       "3                   1       3   \n",
       "4                   1       1   \n",
       "5                   0       3   \n",
       "\n",
       "                                                          Name     Sex   Age  \\\n",
       "PassengerId                                                                    \n",
       "1                                      Braund, Mr. Owen Harris    male  22.0   \n",
       "2            Cumings, Mrs. John Bradley (Florence Briggs Th...  female  38.0   \n",
       "3                                       Heikkinen, Miss. Laina  female  26.0   \n",
       "4                 Futrelle, Mrs. Jacques Heath (Lily May Peel)  female  35.0   \n",
       "5                                     Allen, Mr. William Henry    male  35.0   \n",
       "\n",
       "             SibSp  Parch            Ticket     Fare Cabin Embarked  \n",
       "PassengerId                                                          \n",
       "1                1      0         A/5 21171   7.2500   NaN        S  \n",
       "2                1      0          PC 17599  71.2833   C85        C  \n",
       "3                0      0  STON/O2. 3101282   7.9250   NaN        S  \n",
       "4                1      0            113803  53.1000  C123        S  \n",
       "5                0      0            373450   8.0500   NaN        S  "
      ]
     },
     "execution_count": 4,
     "metadata": {},
     "output_type": "execute_result"
    }
   ],
   "source": [
    "data.head()"
   ]
  },
  {
   "cell_type": "code",
   "execution_count": 5,
   "metadata": {},
   "outputs": [
    {
     "data": {
      "text/plain": [
       "1782"
      ]
     },
     "execution_count": 5,
     "metadata": {},
     "output_type": "execute_result"
    }
   ],
   "source": [
    "len(data.index)"
   ]
  },
  {
   "cell_type": "code",
   "execution_count": 6,
   "metadata": {},
   "outputs": [
    {
     "data": {
      "text/plain": [
       "Index(['Survived', 'Pclass', 'Name', 'Sex', 'Age', 'SibSp', 'Parch', 'Ticket',\n",
       "       'Fare', 'Cabin', 'Embarked'],\n",
       "      dtype='object')"
      ]
     },
     "execution_count": 6,
     "metadata": {},
     "output_type": "execute_result"
    }
   ],
   "source": [
    "data.columns"
   ]
  },
  {
   "cell_type": "markdown",
   "metadata": {},
   "source": [
    "### Viz"
   ]
  },
  {
   "cell_type": "code",
   "execution_count": 7,
   "metadata": {},
   "outputs": [
    {
     "name": "stderr",
     "output_type": "stream",
     "text": [
      "/var/folders/nx/ktkztyln3xn8f8j2qrfpjrlh0000gn/T/ipykernel_7968/491848776.py:8: FutureWarning: Series.__getitem__ treating keys as positions is deprecated. In a future version, integer keys will always be treated as labels (consistent with DataFrame behavior). To access a value by position, use `ser.iloc[pos]`\n",
      "  [sex[0], train_counts[0]],\n",
      "/var/folders/nx/ktkztyln3xn8f8j2qrfpjrlh0000gn/T/ipykernel_7968/491848776.py:9: FutureWarning: Series.__getitem__ treating keys as positions is deprecated. In a future version, integer keys will always be treated as labels (consistent with DataFrame behavior). To access a value by position, use `ser.iloc[pos]`\n",
      "  [sex[1], train_counts[1]]\n"
     ]
    },
    {
     "data": {
      "image/png": "[encoded data removed]",
      "text/plain": [
       "<Figure size 640x480 with 1 Axes>"
      ]
     },
     "metadata": {},
     "output_type": "display_data"
    }
   ],
   "source": [
    "cols = ['Sex', 'count']\n",
    "sex = ['male', 'female']\n",
    "res_df = pd.DataFrame(columns=cols, dtype='object')\n",
    "\n",
    "train_counts = data['Sex'].value_counts()\n",
    "train_df = pd.DataFrame(\n",
    "    data=[\n",
    "        [sex[0], train_counts[0]],\n",
    "        [sex[1], train_counts[1]]\n",
    "    ],\n",
    "    columns=cols\n",
    ")\n",
    "\n",
    "res_df = pd.concat([train_df])\n",
    "\n",
    "for i in res_df.index:\n",
    "    count = res_df.loc[i, 'count']\n",
    "    y = res_df.loc[i, 'count']\n",
    "    plt.annotate(count, (i, y), ha=\"center\", va=\"bottom\")\n",
    "\n",
    "sns.barplot(x='Sex',y='count',data=res_df,hue='Sex', dodge=False)\n",
    "# plt.legend(loc=\"upper right\")\n",
    "plt.legend([], frameon=False)\n",
    "plt.show()\n"
   ]
  },
  {
   "cell_type": "code",
   "execution_count": 8,
   "metadata": {},
   "outputs": [
    {
     "data": {
      "text/plain": [
       "Survived\n",
       "0    1098\n",
       "1     684\n",
       "Name: count, dtype: int64"
      ]
     },
     "execution_count": 8,
     "metadata": {},
     "output_type": "execute_result"
    }
   ],
   "source": [
    "data['Survived'].value_counts()"
   ]
  },
  {
   "cell_type": "code",
   "execution_count": 9,
   "metadata": {},
   "outputs": [
    {
     "data": {
      "image/png": "[encoded data removed]",
      "text/plain": [
       "<Figure size 640x480 with 1 Axes>"
      ]
     },
     "metadata": {},
     "output_type": "display_data"
    }
   ],
   "source": [
    "cols = ['Survived', 'count']\n",
    "survived = ['not survived', 'survived']\n",
    "res_df = pd.DataFrame(columns=cols, dtype='object')\n",
    "\n",
    "train_counts = data['Survived'].value_counts()\n",
    "train_df = pd.DataFrame(\n",
    "    data=[\n",
    "        [survived[0], train_counts[0]],\n",
    "        [survived[1], train_counts[1]]\n",
    "    ],\n",
    "    columns=cols\n",
    ")\n",
    "\n",
    "res_df = pd.concat([train_df])\n",
    "\n",
    "for i in res_df.index:\n",
    "    count = res_df.loc[i, 'count']\n",
    "    y = res_df.loc[i, 'count']\n",
    "    plt.annotate(count, (i, y), ha=\"center\", va=\"bottom\")\n",
    "\n",
    "sns.barplot(x='Survived',y='count',data=res_df,hue='Survived', dodge=False)\n",
    "# plt.legend(loc=\"upper right\")\n",
    "plt.legend([], frameon=False)\n",
    "plt.show()"
   ]
  },
  {
   "cell_type": "code",
   "execution_count": 10,
   "metadata": {},
   "outputs": [
    {
     "data": {
      "image/png": "[encoded data removed]",
      "text/plain": [
       "<Figure size 640x480 with 1 Axes>"
      ]
     },
     "metadata": {},
     "output_type": "display_data"
    }
   ],
   "source": [
    "survived = data[data['Survived'] == 1]\n",
    "man_surv = len(survived[survived['Sex'] == 'male'].index)\n",
    "woman_surv = len(survived[survived['Sex'] == 'female'].index)\n",
    "\n",
    "not_survived = data[data['Survived'] == 0]\n",
    "man_not = len(not_survived[not_survived['Sex'] == 'male'].index)\n",
    "woman_not = len(not_survived[not_survived['Sex'] == 'female'].index)\n",
    "\n",
    "\n",
    "res_df = pd.DataFrame(\n",
    "    {\n",
    "        'not survived': [man_not, woman_not],\n",
    "        'survived': [man_surv, woman_surv],\n",
    "    },\n",
    "    index=['male', 'female']\n",
    ")\n",
    "\n",
    "res_df.plot(kind='bar', stacked=True)#, color=['red', 'pink'])\n",
    "plt.legend(loc=\"upper right\")\n",
    "plt.xticks(rotation=0)\n",
    "plt.show()"
   ]
  },
  {
   "cell_type": "code",
   "execution_count": 11,
   "metadata": {},
   "outputs": [
    {
     "data": {
      "image/png": "[encoded data removed]",
      "text/plain": [
       "<Figure size 640x480 with 1 Axes>"
      ]
     },
     "metadata": {},
     "output_type": "display_data"
    }
   ],
   "source": [
    "# data['Age'].hist()\n",
    "plt.hist(data['Age'], histtype=\"stepfilled\", edgecolor='k', linewidth=1.2)\n",
    "plt.show()"
   ]
  },
  {
   "cell_type": "code",
   "execution_count": 12,
   "metadata": {},
   "outputs": [
    {
     "data": {
      "image/png": "[encoded data removed]",
      "text/plain": [
       "<Figure size 640x480 with 1 Axes>"
      ]
     },
     "metadata": {},
     "output_type": "display_data"
    }
   ],
   "source": [
    "cols = ['Cabin', 'count', 'percent']\n",
    "filled = ['not filled', 'filled']\n",
    "res_df = pd.DataFrame(columns=cols, dtype='object')\n",
    "\n",
    "counts_nan = data['Cabin'].isna().sum()\n",
    "count_not_nan = data['Cabin'].count().sum()\n",
    "res_df = pd.DataFrame(\n",
    "    data=[\n",
    "        [filled[0], counts_nan, counts_nan/len(data['Cabin'].index)],\n",
    "        [filled[1], count_not_nan, count_not_nan/len(data['Cabin'].index)]\n",
    "    ],\n",
    "    columns=cols\n",
    ")\n",
    "\n",
    "for i in res_df.index:\n",
    "    percent = np.round(res_df.loc[i, 'percent']*100, 2)\n",
    "    percent = f'{percent}%'\n",
    "    y = res_df.loc[i, 'count']\n",
    "    plt.annotate(percent, (i, y), ha=\"center\", va=\"bottom\")\n",
    "\n",
    "sns.barplot(x='Cabin',y='count',data=res_df,hue='Cabin', dodge=False)\n",
    "# plt.legend(loc=\"upper right\")\n",
    "plt.legend([], frameon=False)\n",
    "plt.show()"
   ]
  },
  {
   "cell_type": "code",
   "execution_count": 13,
   "metadata": {},
   "outputs": [
    {
     "name": "stdout",
     "output_type": "stream",
     "text": [
      "Embarked\n",
      "S    1288\n",
      "C     336\n",
      "Q     154\n",
      "Name: count, dtype: int64\n",
      "4\n"
     ]
    }
   ],
   "source": [
    "print(data['Embarked'].value_counts())\n",
    "print(data['Embarked'].isna().sum())"
   ]
  },
  {
   "cell_type": "markdown",
   "metadata": {},
   "source": [
    "### Titanic data (post-prep)"
   ]
  },
  {
   "cell_type": "code",
   "execution_count": 15,
   "metadata": {},
   "outputs": [],
   "source": [
    "data = pd.read_csv(\"../../data/processed/titanic/titanic.csv\", index_col='PassengerId')"
   ]
  },
  {
   "cell_type": "code",
   "execution_count": 16,
   "metadata": {},
   "outputs": [
    {
     "data": {
      "text/html": [
       "<div>\n",
       "<style scoped>\n",
       "    .dataframe tbody tr th:only-of-type {\n",
       "        vertical-align: middle;\n",
       "    }\n",
       "\n",
       "    .dataframe tbody tr th {\n",
       "        vertical-align: top;\n",
       "    }\n",
       "\n",
       "    .dataframe thead th {\n",
       "        text-align: right;\n",
       "    }\n",
       "</style>\n",
       "<table border=\"1\" class=\"dataframe\">\n",
       "  <thead>\n",
       "    <tr style=\"text-align: right;\">\n",
       "      <th></th>\n",
       "      <th>Pclass</th>\n",
       "      <th>Fare</th>\n",
       "      <th>Embarked_C</th>\n",
       "      <th>Embarked_Q</th>\n",
       "      <th>Embarked_S</th>\n",
       "      <th>Age_-1</th>\n",
       "      <th>Age_2</th>\n",
       "      <th>Age_12</th>\n",
       "      <th>Age_18</th>\n",
       "      <th>Age_25</th>\n",
       "      <th>Age_35</th>\n",
       "      <th>Age_45</th>\n",
       "      <th>Age_55</th>\n",
       "      <th>Age_65</th>\n",
       "      <th>Age_75</th>\n",
       "      <th>Age_80</th>\n",
       "      <th>SibSp</th>\n",
       "      <th>Parch</th>\n",
       "      <th>Sex</th>\n",
       "      <th>Survived</th>\n",
       "    </tr>\n",
       "    <tr>\n",
       "      <th>PassengerId</th>\n",
       "      <th></th>\n",
       "      <th></th>\n",
       "      <th></th>\n",
       "      <th></th>\n",
       "      <th></th>\n",
       "      <th></th>\n",
       "      <th></th>\n",
       "      <th></th>\n",
       "      <th></th>\n",
       "      <th></th>\n",
       "      <th></th>\n",
       "      <th></th>\n",
       "      <th></th>\n",
       "      <th></th>\n",
       "      <th></th>\n",
       "      <th></th>\n",
       "      <th></th>\n",
       "      <th></th>\n",
       "      <th></th>\n",
       "      <th></th>\n",
       "    </tr>\n",
       "  </thead>\n",
       "  <tbody>\n",
       "    <tr>\n",
       "      <th>1</th>\n",
       "      <td>3</td>\n",
       "      <td>7.2500</td>\n",
       "      <td>False</td>\n",
       "      <td>False</td>\n",
       "      <td>True</td>\n",
       "      <td>False</td>\n",
       "      <td>False</td>\n",
       "      <td>False</td>\n",
       "      <td>False</td>\n",
       "      <td>True</td>\n",
       "      <td>False</td>\n",
       "      <td>False</td>\n",
       "      <td>False</td>\n",
       "      <td>False</td>\n",
       "      <td>False</td>\n",
       "      <td>False</td>\n",
       "      <td>1</td>\n",
       "      <td>0</td>\n",
       "      <td>False</td>\n",
       "      <td>0</td>\n",
       "    </tr>\n",
       "    <tr>\n",
       "      <th>2</th>\n",
       "      <td>1</td>\n",
       "      <td>71.2833</td>\n",
       "      <td>True</td>\n",
       "      <td>False</td>\n",
       "      <td>False</td>\n",
       "      <td>False</td>\n",
       "      <td>False</td>\n",
       "      <td>False</td>\n",
       "      <td>False</td>\n",
       "      <td>False</td>\n",
       "      <td>False</td>\n",
       "      <td>True</td>\n",
       "      <td>False</td>\n",
       "      <td>False</td>\n",
       "      <td>False</td>\n",
       "      <td>False</td>\n",
       "      <td>1</td>\n",
       "      <td>0</td>\n",
       "      <td>True</td>\n",
       "      <td>1</td>\n",
       "    </tr>\n",
       "    <tr>\n",
       "      <th>3</th>\n",
       "      <td>3</td>\n",
       "      <td>7.9250</td>\n",
       "      <td>False</td>\n",
       "      <td>False</td>\n",
       "      <td>True</td>\n",
       "      <td>False</td>\n",
       "      <td>False</td>\n",
       "      <td>False</td>\n",
       "      <td>False</td>\n",
       "      <td>False</td>\n",
       "      <td>True</td>\n",
       "      <td>False</td>\n",
       "      <td>False</td>\n",
       "      <td>False</td>\n",
       "      <td>False</td>\n",
       "      <td>False</td>\n",
       "      <td>0</td>\n",
       "      <td>0</td>\n",
       "      <td>True</td>\n",
       "      <td>1</td>\n",
       "    </tr>\n",
       "    <tr>\n",
       "      <th>4</th>\n",
       "      <td>1</td>\n",
       "      <td>53.1000</td>\n",
       "      <td>False</td>\n",
       "      <td>False</td>\n",
       "      <td>True</td>\n",
       "      <td>False</td>\n",
       "      <td>False</td>\n",
       "      <td>False</td>\n",
       "      <td>False</td>\n",
       "      <td>False</td>\n",
       "      <td>True</td>\n",
       "      <td>False</td>\n",
       "      <td>False</td>\n",
       "      <td>False</td>\n",
       "      <td>False</td>\n",
       "      <td>False</td>\n",
       "      <td>1</td>\n",
       "      <td>0</td>\n",
       "      <td>True</td>\n",
       "      <td>1</td>\n",
       "    </tr>\n",
       "    <tr>\n",
       "      <th>5</th>\n",
       "      <td>3</td>\n",
       "      <td>8.0500</td>\n",
       "      <td>False</td>\n",
       "      <td>False</td>\n",
       "      <td>True</td>\n",
       "      <td>False</td>\n",
       "      <td>False</td>\n",
       "      <td>False</td>\n",
       "      <td>False</td>\n",
       "      <td>False</td>\n",
       "      <td>True</td>\n",
       "      <td>False</td>\n",
       "      <td>False</td>\n",
       "      <td>False</td>\n",
       "      <td>False</td>\n",
       "      <td>False</td>\n",
       "      <td>0</td>\n",
       "      <td>0</td>\n",
       "      <td>False</td>\n",
       "      <td>0</td>\n",
       "    </tr>\n",
       "  </tbody>\n",
       "</table>\n",
       "</div>"
      ],
      "text/plain": [
       "             Pclass     Fare  Embarked_C  Embarked_Q  Embarked_S  Age_-1  \\\n",
       "PassengerId                                                                \n",
       "1                 3   7.2500       False       False        True   False   \n",
       "2                 1  71.2833        True       False       False   False   \n",
       "3                 3   7.9250       False       False        True   False   \n",
       "4                 1  53.1000       False       False        True   False   \n",
       "5                 3   8.0500       False       False        True   False   \n",
       "\n",
       "             Age_2  Age_12  Age_18  Age_25  Age_35  Age_45  Age_55  Age_65  \\\n",
       "PassengerId                                                                  \n",
       "1            False   False   False    True   False   False   False   False   \n",
       "2            False   False   False   False   False    True   False   False   \n",
       "3            False   False   False   False    True   False   False   False   \n",
       "4            False   False   False   False    True   False   False   False   \n",
       "5            False   False   False   False    True   False   False   False   \n",
       "\n",
       "             Age_75  Age_80  SibSp  Parch    Sex  Survived  \n",
       "PassengerId                                                 \n",
       "1             False   False      1      0  False         0  \n",
       "2             False   False      1      0   True         1  \n",
       "3             False   False      0      0   True         1  \n",
       "4             False   False      1      0   True         1  \n",
       "5             False   False      0      0  False         0  "
      ]
     },
     "execution_count": 16,
     "metadata": {},
     "output_type": "execute_result"
    }
   ],
   "source": [
    "data.head()"
   ]
  },
  {
   "cell_type": "code",
   "execution_count": 17,
   "metadata": {},
   "outputs": [
    {
     "data": {
      "text/plain": [
       "1778"
      ]
     },
     "execution_count": 17,
     "metadata": {},
     "output_type": "execute_result"
    }
   ],
   "source": [
    "len(data.index)"
   ]
  },
  {
   "cell_type": "code",
   "execution_count": 18,
   "metadata": {},
   "outputs": [
    {
     "data": {
      "text/plain": [
       "Index(['Pclass', 'Fare', 'Embarked_C', 'Embarked_Q', 'Embarked_S', 'Age_-1',\n",
       "       'Age_2', 'Age_12', 'Age_18', 'Age_25', 'Age_35', 'Age_45', 'Age_55',\n",
       "       'Age_65', 'Age_75', 'Age_80', 'SibSp', 'Parch', 'Sex', 'Survived'],\n",
       "      dtype='object')"
      ]
     },
     "execution_count": 18,
     "metadata": {},
     "output_type": "execute_result"
    }
   ],
   "source": [
    "data.columns"
   ]
  },
  {
   "cell_type": "markdown",
   "metadata": {},
   "source": [
    "### Viz"
   ]
  },
  {
   "cell_type": "code",
   "execution_count": 19,
   "metadata": {},
   "outputs": [
    {
     "data": {
      "text/plain": [
       "Sex\n",
       "False    1154\n",
       "True      624\n",
       "Name: count, dtype: int64"
      ]
     },
     "execution_count": 19,
     "metadata": {},
     "output_type": "execute_result"
    }
   ],
   "source": [
    "data['Sex'].value_counts()"
   ]
  },
  {
   "cell_type": "code",
   "execution_count": 20,
   "metadata": {},
   "outputs": [
    {
     "name": "stderr",
     "output_type": "stream",
     "text": [
      "/var/folders/nx/ktkztyln3xn8f8j2qrfpjrlh0000gn/T/ipykernel_7968/491848776.py:8: FutureWarning: Series.__getitem__ treating keys as positions is deprecated. In a future version, integer keys will always be treated as labels (consistent with DataFrame behavior). To access a value by position, use `ser.iloc[pos]`\n",
      "  [sex[0], train_counts[0]],\n",
      "/var/folders/nx/ktkztyln3xn8f8j2qrfpjrlh0000gn/T/ipykernel_7968/491848776.py:9: FutureWarning: Series.__getitem__ treating keys as positions is deprecated. In a future version, integer keys will always be treated as labels (consistent with DataFrame behavior). To access a value by position, use `ser.iloc[pos]`\n",
      "  [sex[1], train_counts[1]]\n"
     ]
    },
    {
     "data": {
      "image/png": "[encoded data removed]",
      "text/plain": [
       "<Figure size 640x480 with 1 Axes>"
      ]
     },
     "metadata": {},
     "output_type": "display_data"
    }
   ],
   "source": [
    "cols = ['Sex', 'count']\n",
    "sex = ['male', 'female']\n",
    "res_df = pd.DataFrame(columns=cols, dtype='object')\n",
    "\n",
    "train_counts = data['Sex'].value_counts()\n",
    "train_df = pd.DataFrame(\n",
    "    data=[\n",
    "        [sex[0], train_counts[0]],\n",
    "        [sex[1], train_counts[1]]\n",
    "    ],\n",
    "    columns=cols\n",
    ")\n",
    "\n",
    "res_df = pd.concat([train_df])\n",
    "\n",
    "for i in res_df.index:\n",
    "    count = res_df.loc[i, 'count']\n",
    "    y = res_df.loc[i, 'count']\n",
    "    plt.annotate(count, (i, y), ha=\"center\", va=\"bottom\")\n",
    "\n",
    "sns.barplot(x='Sex',y='count',data=res_df,hue='Sex', dodge=False)\n",
    "# plt.legend(loc=\"upper right\")\n",
    "plt.legend([], frameon=False)\n",
    "plt.show()\n"
   ]
  },
  {
   "cell_type": "code",
   "execution_count": 21,
   "metadata": {},
   "outputs": [
    {
     "data": {
      "text/plain": [
       "Survived\n",
       "0    1098\n",
       "1     680\n",
       "Name: count, dtype: int64"
      ]
     },
     "execution_count": 21,
     "metadata": {},
     "output_type": "execute_result"
    }
   ],
   "source": [
    "data['Survived'].value_counts()"
   ]
  },
  {
   "cell_type": "code",
   "execution_count": 22,
   "metadata": {},
   "outputs": [
    {
     "data": {
      "image/png": "[encoded data removed]",
      "text/plain": [
       "<Figure size 640x480 with 1 Axes>"
      ]
     },
     "metadata": {},
     "output_type": "display_data"
    }
   ],
   "source": [
    "cols = ['Survived', 'count']\n",
    "survived = ['not survived', 'survived']\n",
    "res_df = pd.DataFrame(columns=cols, dtype='object')\n",
    "\n",
    "train_counts = data['Survived'].value_counts()\n",
    "train_df = pd.DataFrame(\n",
    "    data=[\n",
    "        [survived[0], train_counts[0]],\n",
    "        [survived[1], train_counts[1]]\n",
    "    ],\n",
    "    columns=cols\n",
    ")\n",
    "\n",
    "res_df = pd.concat([train_df])\n",
    "\n",
    "for i in res_df.index:\n",
    "    count = res_df.loc[i, 'count']\n",
    "    y = res_df.loc[i, 'count']\n",
    "    plt.annotate(count, (i, y), ha=\"center\", va=\"bottom\")\n",
    "\n",
    "sns.barplot(x='Survived',y='count',data=res_df,hue='Survived', dodge=False)\n",
    "# plt.legend(loc=\"upper right\")\n",
    "plt.legend([], frameon=False)\n",
    "plt.show()"
   ]
  },
  {
   "cell_type": "code",
   "execution_count": 23,
   "metadata": {},
   "outputs": [
    {
     "data": {
      "image/png": "[encoded data removed]",
      "text/plain": [
       "<Figure size 640x480 with 1 Axes>"
      ]
     },
     "metadata": {},
     "output_type": "display_data"
    }
   ],
   "source": [
    "survived = data[data['Survived'] == 1]\n",
    "man_surv = len(survived[survived['Sex'] == 0].index)\n",
    "woman_surv = len(survived[survived['Sex'] == 1].index)\n",
    "\n",
    "not_survived = data[data['Survived'] == 0]\n",
    "man_not = len(not_survived[not_survived['Sex'] == 0].index)\n",
    "woman_not = len(not_survived[not_survived['Sex'] == 1].index)\n",
    "\n",
    "\n",
    "res_df = pd.DataFrame(\n",
    "    {\n",
    "        'not survived': [man_not, woman_not],\n",
    "        'survived': [man_surv, woman_surv],\n",
    "    },\n",
    "    index=['male', 'female']\n",
    ")\n",
    "\n",
    "res_df.plot(kind='bar', stacked=True)#, color=['red', 'pink'])\n",
    "plt.legend(loc=\"upper right\")\n",
    "plt.xticks(rotation=0)\n",
    "plt.show()"
   ]
  },
  {
   "cell_type": "code",
   "execution_count": 24,
   "metadata": {},
   "outputs": [
    {
     "name": "stderr",
     "output_type": "stream",
     "text": [
      "/var/folders/nx/ktkztyln3xn8f8j2qrfpjrlh0000gn/T/ipykernel_7968/1322015064.py:13: FutureWarning: Series.__getitem__ treating keys as positions is deprecated. In a future version, integer keys will always be treated as labels (consistent with DataFrame behavior). To access a value by position, use `ser.iloc[pos]`\n",
      "  [ages[0], train_counts[0]],\n",
      "/var/folders/nx/ktkztyln3xn8f8j2qrfpjrlh0000gn/T/ipykernel_7968/1322015064.py:14: FutureWarning: Series.__getitem__ treating keys as positions is deprecated. In a future version, integer keys will always be treated as labels (consistent with DataFrame behavior). To access a value by position, use `ser.iloc[pos]`\n",
      "  [ages[1], train_counts[1]],\n",
      "/var/folders/nx/ktkztyln3xn8f8j2qrfpjrlh0000gn/T/ipykernel_7968/1322015064.py:15: FutureWarning: Series.__getitem__ treating keys as positions is deprecated. In a future version, integer keys will always be treated as labels (consistent with DataFrame behavior). To access a value by position, use `ser.iloc[pos]`\n",
      "  [ages[2], train_counts[2]],\n",
      "/var/folders/nx/ktkztyln3xn8f8j2qrfpjrlh0000gn/T/ipykernel_7968/1322015064.py:16: FutureWarning: Series.__getitem__ treating keys as positions is deprecated. In a future version, integer keys will always be treated as labels (consistent with DataFrame behavior). To access a value by position, use `ser.iloc[pos]`\n",
      "  [ages[3], train_counts[3]],\n",
      "/var/folders/nx/ktkztyln3xn8f8j2qrfpjrlh0000gn/T/ipykernel_7968/1322015064.py:17: FutureWarning: Series.__getitem__ treating keys as positions is deprecated. In a future version, integer keys will always be treated as labels (consistent with DataFrame behavior). To access a value by position, use `ser.iloc[pos]`\n",
      "  [ages[4], train_counts[4]],\n",
      "/var/folders/nx/ktkztyln3xn8f8j2qrfpjrlh0000gn/T/ipykernel_7968/1322015064.py:18: FutureWarning: Series.__getitem__ treating keys as positions is deprecated. In a future version, integer keys will always be treated as labels (consistent with DataFrame behavior). To access a value by position, use `ser.iloc[pos]`\n",
      "  [ages[5], train_counts[5]],\n",
      "/var/folders/nx/ktkztyln3xn8f8j2qrfpjrlh0000gn/T/ipykernel_7968/1322015064.py:19: FutureWarning: Series.__getitem__ treating keys as positions is deprecated. In a future version, integer keys will always be treated as labels (consistent with DataFrame behavior). To access a value by position, use `ser.iloc[pos]`\n",
      "  [ages[6], train_counts[6]],\n",
      "/var/folders/nx/ktkztyln3xn8f8j2qrfpjrlh0000gn/T/ipykernel_7968/1322015064.py:20: FutureWarning: Series.__getitem__ treating keys as positions is deprecated. In a future version, integer keys will always be treated as labels (consistent with DataFrame behavior). To access a value by position, use `ser.iloc[pos]`\n",
      "  [ages[7], train_counts[7]],\n",
      "/var/folders/nx/ktkztyln3xn8f8j2qrfpjrlh0000gn/T/ipykernel_7968/1322015064.py:21: FutureWarning: Series.__getitem__ treating keys as positions is deprecated. In a future version, integer keys will always be treated as labels (consistent with DataFrame behavior). To access a value by position, use `ser.iloc[pos]`\n",
      "  [ages[8], train_counts[8]],\n",
      "/var/folders/nx/ktkztyln3xn8f8j2qrfpjrlh0000gn/T/ipykernel_7968/1322015064.py:22: FutureWarning: Series.__getitem__ treating keys as positions is deprecated. In a future version, integer keys will always be treated as labels (consistent with DataFrame behavior). To access a value by position, use `ser.iloc[pos]`\n",
      "  [ages[9], train_counts[9]],\n",
      "/var/folders/nx/ktkztyln3xn8f8j2qrfpjrlh0000gn/T/ipykernel_7968/1322015064.py:23: FutureWarning: Series.__getitem__ treating keys as positions is deprecated. In a future version, integer keys will always be treated as labels (consistent with DataFrame behavior). To access a value by position, use `ser.iloc[pos]`\n",
      "  [ages[10], train_counts[10]]\n"
     ]
    },
    {
     "data": {
      "image/png": "[encoded data removed]",
      "text/plain": [
       "<Figure size 640x480 with 1 Axes>"
      ]
     },
     "metadata": {},
     "output_type": "display_data"
    }
   ],
   "source": [
    "org_cols = ['Age_-1', 'Age_2', 'Age_12', 'Age_18', 'Age_25', 'Age_35', 'Age_45', 'Age_55', 'Age_65', 'Age_75', 'Age_80']\n",
    "raw_subset = data[org_cols]\n",
    "subset = pd.get_dummies(raw_subset).idxmax(1)#.str.replace('Age_', '')\n",
    "\n",
    "cols = ['age_bucket', 'count']\n",
    "ages = subset.unique()\n",
    "\n",
    "res_df = pd.DataFrame(columns=cols)\n",
    "\n",
    "train_counts = subset.value_counts()\n",
    "train_df = pd.DataFrame(\n",
    "    data=[\n",
    "        [ages[0], train_counts[0]],\n",
    "        [ages[1], train_counts[1]],\n",
    "        [ages[2], train_counts[2]],\n",
    "        [ages[3], train_counts[3]],\n",
    "        [ages[4], train_counts[4]],\n",
    "        [ages[5], train_counts[5]],\n",
    "        [ages[6], train_counts[6]],\n",
    "        [ages[7], train_counts[7]],\n",
    "        [ages[8], train_counts[8]],\n",
    "        [ages[9], train_counts[9]],\n",
    "        [ages[10], train_counts[10]]\n",
    "    ],\n",
    "    columns=cols\n",
    ")\n",
    "\n",
    "res_df = pd.concat([train_df])\n",
    "\n",
    "res_df['sort'] = res_df['age_bucket'].str.extract('(\\d+)', expand=False).astype(int)\n",
    "res_df.sort_values('sort',inplace=True, ascending=True)\n",
    "res_df = res_df.drop('sort', axis=1)\n",
    "res_df.reset_index(inplace=True)\n",
    "\n",
    "for i in res_df.index:\n",
    "    count = res_df.loc[i, 'count']\n",
    "    y = res_df.loc[i, 'count']\n",
    "    plt.annotate(count, (i, y), ha=\"center\", va=\"bottom\")\n",
    "\n",
    "sns.barplot(x='age_bucket',y='count',data=res_df,hue='age_bucket', dodge=False, order=org_cols, palette='hls')\n",
    "plt.xticks(rotation='vertical')\n",
    "plt.legend([], frameon=False)#bbox_to_anchor=(1.25,1.02), loc=\"upper right\")\n",
    "plt.show()\n"
   ]
  }
 ],
 "metadata": {
  "kernelspec": {
   "display_name": ".venv",
   "language": "python",
   "name": "python3"
  },
  "language_info": {
   "codemirror_mode": {
    "name": "ipython",
    "version": 3
   },
   "file_extension": ".py",
   "mimetype": "text/x-python",
   "name": "python",
   "nbconvert_exporter": "python",
   "pygments_lexer": "ipython3",
   "version": "3.11.9"
  },
  "orig_nbformat": 4
 },
 "nbformat": 4,
 "nbformat_minor": 2
}
