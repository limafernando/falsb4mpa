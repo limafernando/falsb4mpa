{
 "cells": [
  {
   "cell_type": "markdown",
   "metadata": {},
   "source": [
    "## Import libs"
   ]
  },
  {
   "cell_type": "code",
   "execution_count": 1,
   "metadata": {},
   "outputs": [],
   "source": [
    "import pandas as pd\n",
    "from sklearn.model_selection import train_test_split\n",
    "from tensorflow.data import Dataset\n",
    "import seaborn as sns\n",
    "\n",
    "\n",
    "from falsb4mpa.modeling.unfair.unfair_lr import UnfairLogisticRegression\n",
    "from falsb4mpa.dataset.load_data import load_data\n",
    "from falsb4mpa.evaluation.evaluation import compute_metrics, compute_tradeoff\n"
   ]
  },
  {
   "cell_type": "markdown",
   "metadata": {},
   "source": [
    "## Preliminaries"
   ]
  },
  {
   "cell_type": "code",
   "execution_count": 2,
   "metadata": {},
   "outputs": [],
   "source": [
    "# batch_size = 64\n",
    "epochs = 100\n",
    "learning_rate = 0.001"
   ]
  },
  {
   "cell_type": "code",
   "execution_count": 3,
   "metadata": {},
   "outputs": [],
   "source": [
    "cv_seeds = [13, 29, 42, 55, 73]"
   ]
  },
  {
   "cell_type": "markdown",
   "metadata": {},
   "source": [
    "## Load data"
   ]
  },
  {
   "cell_type": "code",
   "execution_count": 4,
   "metadata": {},
   "outputs": [],
   "source": [
    "data_name = 'adult-mpa'"
   ]
  },
  {
   "cell_type": "code",
   "execution_count": 5,
   "metadata": {},
   "outputs": [],
   "source": [
    "x, y, a = load_data(data_name)\n",
    "raw_data = (x, y, a)"
   ]
  },
  {
   "cell_type": "code",
   "execution_count": 6,
   "metadata": {},
   "outputs": [
    {
     "name": "stdout",
     "output_type": "stream",
     "text": [
      "116 1 10 8\n"
     ]
    }
   ],
   "source": [
    "xdim = x.shape[1]\n",
    "ydim = y.shape[1]\n",
    "adim = a.shape[1]\n",
    "zdim = 8\n",
    "print(xdim, ydim, adim, zdim)"
   ]
  },
  {
   "cell_type": "markdown",
   "metadata": {},
   "source": [
    "## Result file"
   ]
  },
  {
   "cell_type": "code",
   "execution_count": 7,
   "metadata": {},
   "outputs": [],
   "source": [
    "header = \"model_name\", \"cv_seed\", \"clas_acc\", \"dp\", \"deqodds\", \"deqopp\", \"trade_dp\", \"trade_deqodds\", \"trade_deqopp\"#, \"TN_a0\", \"FP_a0\", \"FN_a0\", \"TP_a0\", \"TN_a1\", \"FP_a1\", \"FN_a1\", \"TP_a1\"\n",
    "results = []"
   ]
  },
  {
   "cell_type": "markdown",
   "metadata": {},
   "source": [
    "## Testing"
   ]
  },
  {
   "cell_type": "code",
   "execution_count": 8,
   "metadata": {},
   "outputs": [
    {
     "name": "stdout",
     "output_type": "stream",
     "text": [
      "> Evaluation\n",
      "> Class Acc = 0.8391685485839844\n",
      "> DP | DEqOdds | DEqOpp\n",
      "> 0.8194665312767029 | 0.86045241355896 | 0.7988427877426147\n",
      "> Confusion Matrix \n",
      "TN: 9429.0 | FP: 780.0 \n",
      "FN: 1402.0 | TP: 1956.0\n",
      "> Evaluation\n",
      "> Class Acc = 0.8376206755638123\n",
      "> DP | DEqOdds | DEqOpp\n",
      "> 0.8165420889854431 | 0.8447357416152954 | 0.7680558562278748\n",
      "> Confusion Matrix \n",
      "TN: 9421.0 | FP: 779.0 \n",
      "FN: 1424.0 | TP: 1943.0\n",
      "> Evaluation\n",
      "> Class Acc = 0.8396845459938049\n",
      "> DP | DEqOdds | DEqOpp\n",
      "> 0.819894015789032 | 0.8671702146530151 | 0.8136953711509705\n",
      "> Confusion Matrix \n",
      "TN: 9385.0 | FP: 808.0 \n",
      "FN: 1367.0 | TP: 2007.0\n",
      "> Evaluation\n",
      "> Class Acc = 0.835777997970581\n",
      "> DP | DEqOdds | DEqOpp\n",
      "> 0.8307046890258789 | 0.8882110118865967 | 0.8571058511734009\n",
      "> Confusion Matrix \n",
      "TN: 9428.0 | FP: 727.0 \n",
      "FN: 1501.0 | TP: 1911.0\n",
      "> Evaluation\n",
      "> Class Acc = 0.8358516693115234\n",
      "> DP | DEqOdds | DEqOpp\n",
      "> 0.820120096206665 | 0.8489184379577637 | 0.7734554409980774\n",
      "> Confusion Matrix \n",
      "TN: 9463.0 | FP: 677.0 \n",
      "FN: 1550.0 | TP: 1877.0\n"
     ]
    }
   ],
   "source": [
    "results= []\n",
    "for cv_seed in cv_seeds:\n",
    "        x_train, x_test, y_train, y_test, a_train, a_test = train_test_split(\n",
    "                x, y, a, test_size=0.3, random_state=cv_seed\n",
    "        )\n",
    "        y_train = y_train.ravel()\n",
    "        y_test = y_test.ravel()\n",
    "        \n",
    "        model = UnfairLogisticRegression(epochs, learning_rate)\n",
    "        model.fit(x_train, y_train)\n",
    "         \n",
    "        Y_hat = model.predict(x_test)\n",
    "\n",
    "        clas_acc, dp, deqodds, deqopp, confusion_matrix  = compute_metrics(Y=y_test, A=a_test, Y_hat=Y_hat.reshape(y_test.shape), adim=adim)\n",
    "        \n",
    "        fair_metrics = (dp, deqodds, deqopp)\n",
    "        \n",
    "        tradeoff = []\n",
    "        \n",
    "        for fair_metric in fair_metrics:\n",
    "                tradeoff.append(compute_tradeoff(clas_acc, fair_metric))\n",
    "        \n",
    "        result = ['UnfairLR-decay', cv_seed, clas_acc, dp, deqodds, deqopp, tradeoff[0], tradeoff[1], tradeoff[2]]\n",
    "\n",
    "        results.append(result)\n",
    "        "
   ]
  },
  {
   "cell_type": "code",
   "execution_count": 9,
   "metadata": {},
   "outputs": [
    {
     "data": {
      "text/plain": [
       "<Axes: >"
      ]
     },
     "execution_count": 9,
     "metadata": {},
     "output_type": "execute_result"
    },
    {
     "data": {
      "image/png": "[encoded data removed]",
      "text/plain": [
       "<Figure size 640x480 with 2 Axes>"
      ]
     },
     "metadata": {},
     "output_type": "display_data"
    }
   ],
   "source": [
    "sns.heatmap(confusion_matrix, annot=True, fmt='g')"
   ]
  },
  {
   "cell_type": "markdown",
   "metadata": {},
   "source": [
    "## Saving into DF then CSV"
   ]
  },
  {
   "cell_type": "code",
   "execution_count": 10,
   "metadata": {},
   "outputs": [
    {
     "data": {
      "text/html": [
       "<div>\n",
       "<style scoped>\n",
       "    .dataframe tbody tr th:only-of-type {\n",
       "        vertical-align: middle;\n",
       "    }\n",
       "\n",
       "    .dataframe tbody tr th {\n",
       "        vertical-align: top;\n",
       "    }\n",
       "\n",
       "    .dataframe thead th {\n",
       "        text-align: right;\n",
       "    }\n",
       "</style>\n",
       "<table border=\"1\" class=\"dataframe\">\n",
       "  <thead>\n",
       "    <tr style=\"text-align: right;\">\n",
       "      <th></th>\n",
       "      <th>model_name</th>\n",
       "      <th>cv_seed</th>\n",
       "      <th>clas_acc</th>\n",
       "      <th>dp</th>\n",
       "      <th>deqodds</th>\n",
       "      <th>deqopp</th>\n",
       "      <th>trade_dp</th>\n",
       "      <th>trade_deqodds</th>\n",
       "      <th>trade_deqopp</th>\n",
       "    </tr>\n",
       "  </thead>\n",
       "  <tbody>\n",
       "    <tr>\n",
       "      <th>0</th>\n",
       "      <td>UnfairLR-decay</td>\n",
       "      <td>13</td>\n",
       "      <td>0.839169</td>\n",
       "      <td>0.819467</td>\n",
       "      <td>0.860452</td>\n",
       "      <td>0.798843</td>\n",
       "      <td>0.829201</td>\n",
       "      <td>0.849677</td>\n",
       "      <td>0.818509</td>\n",
       "    </tr>\n",
       "    <tr>\n",
       "      <th>1</th>\n",
       "      <td>UnfairLR-decay</td>\n",
       "      <td>29</td>\n",
       "      <td>0.837621</td>\n",
       "      <td>0.816542</td>\n",
       "      <td>0.844736</td>\n",
       "      <td>0.768056</td>\n",
       "      <td>0.826947</td>\n",
       "      <td>0.841163</td>\n",
       "      <td>0.801331</td>\n",
       "    </tr>\n",
       "    <tr>\n",
       "      <th>2</th>\n",
       "      <td>UnfairLR-decay</td>\n",
       "      <td>42</td>\n",
       "      <td>0.839685</td>\n",
       "      <td>0.819894</td>\n",
       "      <td>0.867170</td>\n",
       "      <td>0.813695</td>\n",
       "      <td>0.829671</td>\n",
       "      <td>0.853206</td>\n",
       "      <td>0.826486</td>\n",
       "    </tr>\n",
       "    <tr>\n",
       "      <th>3</th>\n",
       "      <td>UnfairLR-decay</td>\n",
       "      <td>55</td>\n",
       "      <td>0.835778</td>\n",
       "      <td>0.830705</td>\n",
       "      <td>0.888211</td>\n",
       "      <td>0.857106</td>\n",
       "      <td>0.833234</td>\n",
       "      <td>0.861197</td>\n",
       "      <td>0.846308</td>\n",
       "    </tr>\n",
       "    <tr>\n",
       "      <th>4</th>\n",
       "      <td>UnfairLR-decay</td>\n",
       "      <td>73</td>\n",
       "      <td>0.835852</td>\n",
       "      <td>0.820120</td>\n",
       "      <td>0.848918</td>\n",
       "      <td>0.773455</td>\n",
       "      <td>0.827911</td>\n",
       "      <td>0.842334</td>\n",
       "      <td>0.803444</td>\n",
       "    </tr>\n",
       "  </tbody>\n",
       "</table>\n",
       "</div>"
      ],
      "text/plain": [
       "       model_name  cv_seed  clas_acc        dp   deqodds    deqopp  trade_dp  \\\n",
       "0  UnfairLR-decay       13  0.839169  0.819467  0.860452  0.798843  0.829201   \n",
       "1  UnfairLR-decay       29  0.837621  0.816542  0.844736  0.768056  0.826947   \n",
       "2  UnfairLR-decay       42  0.839685  0.819894  0.867170  0.813695  0.829671   \n",
       "3  UnfairLR-decay       55  0.835778  0.830705  0.888211  0.857106  0.833234   \n",
       "4  UnfairLR-decay       73  0.835852  0.820120  0.848918  0.773455  0.827911   \n",
       "\n",
       "   trade_deqodds  trade_deqopp  \n",
       "0       0.849677      0.818509  \n",
       "1       0.841163      0.801331  \n",
       "2       0.853206      0.826486  \n",
       "3       0.861197      0.846308  \n",
       "4       0.842334      0.803444  "
      ]
     },
     "execution_count": 10,
     "metadata": {},
     "output_type": "execute_result"
    }
   ],
   "source": [
    "result_df = pd.DataFrame(results, columns=header)\n",
    "result_df"
   ]
  },
  {
   "cell_type": "code",
   "execution_count": 11,
   "metadata": {},
   "outputs": [],
   "source": [
    "# result_df.to_csv(f'{data_name}-result/unfair_lr-{epochs}.csv')"
   ]
  },
  {
   "cell_type": "markdown",
   "metadata": {},
   "source": [
    "# Load balanced data"
   ]
  },
  {
   "cell_type": "code",
   "execution_count": 12,
   "metadata": {},
   "outputs": [],
   "source": [
    "data_name = 'adult-mpa-balanced'"
   ]
  },
  {
   "cell_type": "markdown",
   "metadata": {},
   "source": [
    "## Testing"
   ]
  },
  {
   "cell_type": "code",
   "execution_count": 13,
   "metadata": {},
   "outputs": [
    {
     "name": "stdout",
     "output_type": "stream",
     "text": [
      "> Evaluation\n",
      "> Class Acc = 0.8391685485839844\n",
      "> DP | DEqOdds | DEqOpp\n",
      "> 0.8194665312767029 | 0.86045241355896 | 0.7988427877426147\n",
      "> Confusion Matrix \n",
      "TN: 9429.0 | FP: 780.0 \n",
      "FN: 1402.0 | TP: 1956.0\n",
      "> Evaluation\n",
      "> Class Acc = 0.8376206755638123\n",
      "> DP | DEqOdds | DEqOpp\n",
      "> 0.8165420889854431 | 0.8447357416152954 | 0.7680558562278748\n",
      "> Confusion Matrix \n",
      "TN: 9421.0 | FP: 779.0 \n",
      "FN: 1424.0 | TP: 1943.0\n",
      "> Evaluation\n",
      "> Class Acc = 0.8396845459938049\n",
      "> DP | DEqOdds | DEqOpp\n",
      "> 0.819894015789032 | 0.8671702146530151 | 0.8136953711509705\n",
      "> Confusion Matrix \n",
      "TN: 9385.0 | FP: 808.0 \n",
      "FN: 1367.0 | TP: 2007.0\n",
      "> Evaluation\n",
      "> Class Acc = 0.835777997970581\n",
      "> DP | DEqOdds | DEqOpp\n",
      "> 0.8307046890258789 | 0.8882110118865967 | 0.8571058511734009\n",
      "> Confusion Matrix \n",
      "TN: 9428.0 | FP: 727.0 \n",
      "FN: 1501.0 | TP: 1911.0\n",
      "> Evaluation\n",
      "> Class Acc = 0.8358516693115234\n",
      "> DP | DEqOdds | DEqOpp\n",
      "> 0.820120096206665 | 0.8489184379577637 | 0.7734554409980774\n",
      "> Confusion Matrix \n",
      "TN: 9463.0 | FP: 677.0 \n",
      "FN: 1550.0 | TP: 1877.0\n"
     ]
    }
   ],
   "source": [
    "results= []\n",
    "for cv_seed in cv_seeds:\n",
    "        x_train, x_test, y_train, y_test, a_train, a_test = train_test_split(\n",
    "                x, y, a, test_size=0.3, random_state=cv_seed\n",
    "        )\n",
    "        y_train = y_train.ravel()\n",
    "        y_test = y_test.ravel()\n",
    "        \n",
    "        model = UnfairLogisticRegression(epochs, learning_rate)\n",
    "        model.fit(x_train, y_train)\n",
    "         \n",
    "        Y_hat = model.predict(x_test)\n",
    "\n",
    "        clas_acc, dp, deqodds, deqopp, confusion_matrix  = compute_metrics(Y=y_test, A=a_test, Y_hat=Y_hat.reshape(y_test.shape), adim=adim)\n",
    "        \n",
    "        fair_metrics = (dp, deqodds, deqopp)\n",
    "        \n",
    "        tradeoff = []\n",
    "        \n",
    "        for fair_metric in fair_metrics:\n",
    "                tradeoff.append(compute_tradeoff(clas_acc, fair_metric))\n",
    "        \n",
    "        result = ['UnfairLR-decay', cv_seed, clas_acc, dp, deqodds, deqopp, tradeoff[0], tradeoff[1], tradeoff[2]]\n",
    "\n",
    "        results.append(result)\n",
    "        "
   ]
  },
  {
   "cell_type": "code",
   "execution_count": 14,
   "metadata": {},
   "outputs": [
    {
     "data": {
      "text/plain": [
       "<Axes: >"
      ]
     },
     "execution_count": 14,
     "metadata": {},
     "output_type": "execute_result"
    },
    {
     "data": {
      "image/png": "[encoded data removed]",
      "text/plain": [
       "<Figure size 640x480 with 2 Axes>"
      ]
     },
     "metadata": {},
     "output_type": "display_data"
    }
   ],
   "source": [
    "sns.heatmap(confusion_matrix, annot=True, fmt='g')"
   ]
  },
  {
   "cell_type": "markdown",
   "metadata": {},
   "source": [
    "## Saving into DF then CSV"
   ]
  },
  {
   "cell_type": "code",
   "execution_count": 15,
   "metadata": {},
   "outputs": [
    {
     "data": {
      "text/html": [
       "<div>\n",
       "<style scoped>\n",
       "    .dataframe tbody tr th:only-of-type {\n",
       "        vertical-align: middle;\n",
       "    }\n",
       "\n",
       "    .dataframe tbody tr th {\n",
       "        vertical-align: top;\n",
       "    }\n",
       "\n",
       "    .dataframe thead th {\n",
       "        text-align: right;\n",
       "    }\n",
       "</style>\n",
       "<table border=\"1\" class=\"dataframe\">\n",
       "  <thead>\n",
       "    <tr style=\"text-align: right;\">\n",
       "      <th></th>\n",
       "      <th>model_name</th>\n",
       "      <th>cv_seed</th>\n",
       "      <th>clas_acc</th>\n",
       "      <th>dp</th>\n",
       "      <th>deqodds</th>\n",
       "      <th>deqopp</th>\n",
       "      <th>trade_dp</th>\n",
       "      <th>trade_deqodds</th>\n",
       "      <th>trade_deqopp</th>\n",
       "    </tr>\n",
       "  </thead>\n",
       "  <tbody>\n",
       "    <tr>\n",
       "      <th>0</th>\n",
       "      <td>UnfairLR-decay</td>\n",
       "      <td>13</td>\n",
       "      <td>0.839169</td>\n",
       "      <td>0.819467</td>\n",
       "      <td>0.860452</td>\n",
       "      <td>0.798843</td>\n",
       "      <td>0.829201</td>\n",
       "      <td>0.849677</td>\n",
       "      <td>0.818509</td>\n",
       "    </tr>\n",
       "    <tr>\n",
       "      <th>1</th>\n",
       "      <td>UnfairLR-decay</td>\n",
       "      <td>29</td>\n",
       "      <td>0.837621</td>\n",
       "      <td>0.816542</td>\n",
       "      <td>0.844736</td>\n",
       "      <td>0.768056</td>\n",
       "      <td>0.826947</td>\n",
       "      <td>0.841163</td>\n",
       "      <td>0.801331</td>\n",
       "    </tr>\n",
       "    <tr>\n",
       "      <th>2</th>\n",
       "      <td>UnfairLR-decay</td>\n",
       "      <td>42</td>\n",
       "      <td>0.839685</td>\n",
       "      <td>0.819894</td>\n",
       "      <td>0.867170</td>\n",
       "      <td>0.813695</td>\n",
       "      <td>0.829671</td>\n",
       "      <td>0.853206</td>\n",
       "      <td>0.826486</td>\n",
       "    </tr>\n",
       "    <tr>\n",
       "      <th>3</th>\n",
       "      <td>UnfairLR-decay</td>\n",
       "      <td>55</td>\n",
       "      <td>0.835778</td>\n",
       "      <td>0.830705</td>\n",
       "      <td>0.888211</td>\n",
       "      <td>0.857106</td>\n",
       "      <td>0.833234</td>\n",
       "      <td>0.861197</td>\n",
       "      <td>0.846308</td>\n",
       "    </tr>\n",
       "    <tr>\n",
       "      <th>4</th>\n",
       "      <td>UnfairLR-decay</td>\n",
       "      <td>73</td>\n",
       "      <td>0.835852</td>\n",
       "      <td>0.820120</td>\n",
       "      <td>0.848918</td>\n",
       "      <td>0.773455</td>\n",
       "      <td>0.827911</td>\n",
       "      <td>0.842334</td>\n",
       "      <td>0.803444</td>\n",
       "    </tr>\n",
       "  </tbody>\n",
       "</table>\n",
       "</div>"
      ],
      "text/plain": [
       "       model_name  cv_seed  clas_acc        dp   deqodds    deqopp  trade_dp  \\\n",
       "0  UnfairLR-decay       13  0.839169  0.819467  0.860452  0.798843  0.829201   \n",
       "1  UnfairLR-decay       29  0.837621  0.816542  0.844736  0.768056  0.826947   \n",
       "2  UnfairLR-decay       42  0.839685  0.819894  0.867170  0.813695  0.829671   \n",
       "3  UnfairLR-decay       55  0.835778  0.830705  0.888211  0.857106  0.833234   \n",
       "4  UnfairLR-decay       73  0.835852  0.820120  0.848918  0.773455  0.827911   \n",
       "\n",
       "   trade_deqodds  trade_deqopp  \n",
       "0       0.849677      0.818509  \n",
       "1       0.841163      0.801331  \n",
       "2       0.853206      0.826486  \n",
       "3       0.861197      0.846308  \n",
       "4       0.842334      0.803444  "
      ]
     },
     "execution_count": 15,
     "metadata": {},
     "output_type": "execute_result"
    }
   ],
   "source": [
    "result_df = pd.DataFrame(results, columns=header)\n",
    "result_df"
   ]
  },
  {
   "cell_type": "code",
   "execution_count": 16,
   "metadata": {},
   "outputs": [],
   "source": [
    "# result_df.to_csv(f'{data_name}-result/unfair_lr-{epochs}.csv')"
   ]
  }
 ],
 "metadata": {
  "kernelspec": {
   "display_name": ".venv",
   "language": "python",
   "name": "python3"
  },
  "language_info": {
   "codemirror_mode": {
    "name": "ipython",
    "version": 3
   },
   "file_extension": ".py",
   "mimetype": "text/x-python",
   "name": "python",
   "nbconvert_exporter": "python",
   "pygments_lexer": "ipython3",
   "version": "3.11.9"
  },
  "metadata": {
   "interpreter": {
    "hash": "34ca74ed6235dfc7dda926bb3adb31e801e3d02679121d5b444ee035e270bd57"
   }
  }
 },
 "nbformat": 4,
 "nbformat_minor": 4
}
